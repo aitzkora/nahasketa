{
 "cells": [
  {
   "cell_type": "markdown",
   "metadata": {
    "slideshow": {
     "slide_type": "slide"
    }
   },
   "source": [
    "<center>\n",
    "<H1> Calling others languages in <H1>\n",
    "<img src=\"julia.png\" width=\"400\">\n",
    "</center> \n",
    "    \n",
    "- source available at https://github.com/aitzkora/nahasketa/tree/master/julia/interfaces \n",
    "- disclaimer :\n",
    " - we address only the **Julia** calling other code part\n",
    " - only tested under Linux      \n",
    "    "
   ]
  },
  {
   "cell_type": "markdown",
   "metadata": {
    "slideshow": {
     "slide_type": "slide"
    }
   },
   "source": [
    "# Outline"
   ]
  },
  {
   "cell_type": "markdown",
   "metadata": {
    "slideshow": {
     "slide_type": "fragment"
    }
   },
   "source": [
    "## calling C code"
   ]
  },
  {
   "cell_type": "markdown",
   "metadata": {
    "slideshow": {
     "slide_type": "fragment"
    }
   },
   "source": [
    "## calling Fortran code "
   ]
  },
  {
   "cell_type": "markdown",
   "metadata": {
    "slideshow": {
     "slide_type": "fragment"
    }
   },
   "source": [
    "## calling Python"
   ]
  },
  {
   "cell_type": "markdown",
   "metadata": {
    "slideshow": {
     "slide_type": "slide"
    }
   },
   "source": [
    "# Calling  C code \n",
    "\n",
    "the basic julia syntax to interface with C code is \n",
    "\n",
    "```julia\n",
    "ccall((:funcName, library), returnType, (argType1, argType2, ...), (argVal1, argVal2, ...))\n",
    "ccall(funcPtr, returnType, (argType1, argType2, ...), (argVal1, argVal2, ...))\n",
    "```"
   ]
  },
  {
   "cell_type": "markdown",
   "metadata": {
    "slideshow": {
     "slide_type": "fragment"
    }
   },
   "source": [
    "## Remarks \n",
    "- library is a _formally_ a string :\n",
    " - you could use `\"./mylib.so\"`   \n",
    " - but ⚠ you **could not** use `string(pwd(),\"/mylib.so\")` ⚠ \n",
    "- to use a library which is not in `.`, add the path to `LD_LIBRARY_PATH` before launching **Julia**\n",
    "- using `dlopen` and `dlsym` one could directly use the function pointer call"
   ]
  },
  {
   "cell_type": "markdown",
   "metadata": {
    "slideshow": {
     "slide_type": "slide"
    }
   },
   "source": [
    "# Basic example \n",
    "- we want to call a scalar function taking one int and returning one int\n",
    "- we write the C function and compile it"
   ]
  },
  {
   "cell_type": "code",
   "execution_count": 1,
   "metadata": {
    "slideshow": {
     "slide_type": "fragment"
    }
   },
   "outputs": [],
   "source": [
    "io = open(\"C/skel.c\",\"w\")\n",
    "write(io, \"int ajoute2(int x) { return x+2; }\")\n",
    "close(io)\n",
    "run(`gcc -o C/ajoute2.so --shared C/skel.c`);"
   ]
  },
  {
   "cell_type": "markdown",
   "metadata": {
    "slideshow": {
     "slide_type": "fragment"
    }
   },
   "source": [
    "- and we call it in Julia"
   ]
  },
  {
   "cell_type": "code",
   "execution_count": 2,
   "metadata": {
    "slideshow": {
     "slide_type": "fragment"
    }
   },
   "outputs": [
    {
     "name": "stdout",
     "output_type": "stream",
     "text": [
      "w = 14\n"
     ]
    }
   ],
   "source": [
    "w = ccall((:ajoute2, \"ajoute2.so\"), Int32, (Int32,), 12)\n",
    "run(`rm C/ajoute2.so C/skel.c`)\n",
    "println(\"w = $w\")"
   ]
  },
  {
   "cell_type": "markdown",
   "metadata": {
    "slideshow": {
     "slide_type": "slide"
    }
   },
   "source": [
    "# Example with a matrix"
   ]
  },
  {
   "cell_type": "markdown",
   "metadata": {
    "slideshow": {
     "slide_type": "fragment"
    }
   },
   "source": [
    "- We can call the following C code\n",
    "```C\n",
    "#include <inttypes.h>\n",
    "double mysum(int64_t m, int64_t n, double *x)\n",
    "{\n",
    "   double s = 0.;\n",
    "   int i,j;\n",
    "   for(i = 0; i < m; ++i)\n",
    "       for(j = 0; j < n; ++j)\n",
    "            s += x[i * n + j];\n",
    "   return s;\n",
    "}\n",
    "```"
   ]
  },
  {
   "cell_type": "markdown",
   "metadata": {
    "slideshow": {
     "slide_type": "fragment"
    }
   },
   "source": [
    "- with the julia code\n",
    "\n",
    "```julia\n",
    "a = reshape(collect(1.:10.), 5, 2)\n",
    "s = ccall((:mysum, \"libmysum.so\"), Float64, (Int64, Int64, Ptr{Float64}), size(a, 1), size(a, 2), a)\n",
    "println(\"s = $s\")\n",
    "```"
   ]
  },
  {
   "cell_type": "code",
   "execution_count": 7,
   "metadata": {
    "slideshow": {
     "slide_type": "fragment"
    }
   },
   "outputs": [
    {
     "name": "stdout",
     "output_type": "stream",
     "text": [
      "s = 55.0\n"
     ]
    }
   ],
   "source": [
    "include(\"C/test_mysum.jl\")"
   ]
  },
  {
   "cell_type": "markdown",
   "metadata": {
    "slideshow": {
     "slide_type": "fragment"
    }
   },
   "source": [
    "## Notes : \n",
    "\n",
    "- we use `Ptr{Float64}` to pass a matrix to the function\n",
    "- using standards types like `int64_t` is not mandatory, but enforces compatibility trough more portability \n",
    "- we could also use `Cdouble` and `Cint` in Julia code"
   ]
  },
  {
   "cell_type": "markdown",
   "metadata": {
    "slideshow": {
     "slide_type": "slide"
    }
   },
   "source": [
    "# Calling a Julia Function in the C code called by Julia "
   ]
  },
  {
   "cell_type": "markdown",
   "metadata": {
    "slideshow": {
     "slide_type": "fragment"
    }
   },
   "source": [
    "- using a function pointer in C code\n",
    "\n",
    "```C\n",
    "#include <inttypes.h>\n",
    "\n",
    "double apply_f(double (*fun)(double), int64_t x_n , double *x, double * y)\n",
    "{\n",
    "  int64_t i;\n",
    "  for(i = 0; i < x_n; ++i)\n",
    "      i[y] = (*fun)(i[x]);\n",
    "}\n",
    "```"
   ]
  },
  {
   "cell_type": "markdown",
   "metadata": {
    "slideshow": {
     "slide_type": "fragment"
    }
   },
   "source": [
    "and the `@cfuntion` julia macro as in \n",
    "\n",
    "```julia\n",
    "a = collect(1.:10.)\n",
    "fun = @cfunction(x->x*x, Float64, (Float64,))\n",
    "b = zeros(10)\n",
    "s = ccall((:apply_f, \"libjuliafun.so\"), Cvoid, (Ptr{Cvoid}, Cint, Ptr{Cdouble}, Ptr{Cdouble}), fun, 10, a, b)\n",
    "println(\"b = $b\")\n",
    "```\n",
    "one could call julia function into the C code"
   ]
  },
  {
   "cell_type": "code",
   "execution_count": 3,
   "metadata": {
    "slideshow": {
     "slide_type": "fragment"
    }
   },
   "outputs": [
    {
     "name": "stdout",
     "output_type": "stream",
     "text": [
      "b = [1.0, 4.0, 9.0, 16.0, 25.0, 36.0, 49.0, 64.0, 81.0, 100.0]\n"
     ]
    }
   ],
   "source": [
    "include(\"C/test_apply_f.jl\")"
   ]
  },
  {
   "cell_type": "markdown",
   "metadata": {
    "slideshow": {
     "slide_type": "slide"
    }
   },
   "source": [
    "# Basic C++ support"
   ]
  },
  {
   "cell_type": "markdown",
   "metadata": {
    "slideshow": {
     "slide_type": "fragment"
    }
   },
   "source": [
    "- we can use C++ code, as long as we provided a `extern \"C\"` interface for the entry function \n",
    "\n",
    "```C\n",
    "#include <cinttypes>\n",
    "#include <vector>\n",
    "#include <numeric>\n",
    "\n",
    "extern \"C\" {\n",
    "double mysum2(int64_t n, double *x);\n",
    "};\n",
    "\n",
    "double mysum2(int64_t n, double *x)\n",
    "{\n",
    "    double s = 0;\n",
    "    std::vector<double> t(x, x + n);\n",
    "    for(auto & z : t) s+= z;\n",
    "    return s;\n",
    "}\n",
    "```"
   ]
  },
  {
   "cell_type": "markdown",
   "metadata": {
    "slideshow": {
     "slide_type": "fragment"
    }
   },
   "source": [
    "- and we could call with the julia code\n",
    "```julia\n",
    "a = collect(1.:10.)\n",
    "s = ccall((:mysum2, \"libmysum2.so\"), Float64, (Int64, Ptr{Float64}), size(a, 1), a)\n",
    "println(\"s = $s\")\n",
    "```"
   ]
  },
  {
   "cell_type": "code",
   "execution_count": 4,
   "metadata": {
    "slideshow": {
     "slide_type": "fragment"
    }
   },
   "outputs": [
    {
     "name": "stdout",
     "output_type": "stream",
     "text": [
      "s = 55.0\n"
     ]
    }
   ],
   "source": [
    "include(\"C/test_mysum2.jl\")"
   ]
  },
  {
   "cell_type": "markdown",
   "metadata": {
    "slideshow": {
     "slide_type": "slide"
    }
   },
   "source": [
    "# Persistance across multiple calls"
   ]
  },
  {
   "cell_type": "markdown",
   "metadata": {
    "slideshow": {
     "slide_type": "fragment"
    }
   },
   "source": [
    "- suppose we want to use the following dummy allocator for array of double\n",
    "\n",
    "```C\n",
    "#include <inttypes.h>\n",
    "#include <string.h>\n",
    "#include <stdlib.h>\n",
    "#include <stdio.h>\n",
    "\n",
    "#define ALLOC_MAX 4\n",
    "double *table[ALLOC_MAX];\n",
    "int64_t compteur = 0;\n",
    "```"
   ]
  },
  {
   "cell_type": "markdown",
   "metadata": {
    "slideshow": {
     "slide_type": "fragment"
    }
   },
   "source": [
    "```C\n",
    "int64_t my_alloc(int64_t size) {\n",
    "    double * p;\n",
    "    printf(\"comp = %d\\n\", compteur);\n",
    "    if (compteur <  ALLOC_MAX )\n",
    "    {\n",
    "        p = (double*) (calloc(size, sizeof(double)));\n",
    "        if (p)\n",
    "        {\n",
    "            table[compteur] = p;\n",
    "            return compteur++;\n",
    "        }\n",
    "        else\n",
    "            return -1; // bad calloc\n",
    "    }\n",
    "    else\n",
    "      return -2; // allocation table is full\n",
    "}\n",
    "```"
   ]
  },
  {
   "cell_type": "markdown",
   "metadata": {
    "slideshow": {
     "slide_type": "fragment"
    }
   },
   "source": [
    "```C\n",
    "void my_free(int64_t num)\n",
    "{\n",
    "     if (table[num]) { free(table[num]); table[num] = NULL; }\n",
    "}\n",
    "```"
   ]
  },
  {
   "cell_type": "markdown",
   "metadata": {
    "slideshow": {
     "slide_type": "fragment"
    }
   },
   "source": [
    "```C\n",
    "int64_t set_values(int64_t size, int64_t num, double * val)\n",
    "{\n",
    "    if (table[num])\n",
    "        memcpy((void*)(table[num]), (void*)(val), sizeof(double)*size);\n",
    "    else\n",
    "        return -1;\n",
    "}\n",
    "```"
   ]
  },
  {
   "cell_type": "markdown",
   "metadata": {
    "slideshow": {
     "slide_type": "fragment"
    }
   },
   "source": [
    "```C\n",
    "int64_t get_values(int64_t size, int64_t num, double * val)\n",
    "{\n",
    "    if (table[num])\n",
    "        memcpy((void*)(val), (void*)(table[num]), sizeof(double)*size);\n",
    "    else\n",
    "        return -1;\n",
    "}\n",
    "\n",
    "```"
   ]
  },
  {
   "cell_type": "markdown",
   "metadata": {
    "slideshow": {
     "slide_type": "slide"
    }
   },
   "source": [
    "# Persistance across calls"
   ]
  },
  {
   "cell_type": "markdown",
   "metadata": {
    "slideshow": {
     "slide_type": "fragment"
    }
   },
   "source": [
    "- one can maps these C functions in Julia like\n",
    "\n",
    "```julia\n",
    "using Libdl: dlopen, dlsym\n",
    "lib_alloc = dlopen(\"libmyalloc\")\n",
    "all_ptr, fre_ptr, set_ptr, get_ptr = map(x->dlsym(lib_alloc, x), [:my_alloc, :my_free, :set_values, :get_values])\n",
    "```"
   ]
  },
  {
   "cell_type": "markdown",
   "metadata": {
    "slideshow": {
     "slide_type": "fragment"
    }
   },
   "source": [
    "```julia\n",
    "function alloc(n::Int)\n",
    "    ret = ccall(all_ptr, Int64, (Int64, ), n)\n",
    "    if (ret == -2) println(\"allocation table is full\") end\n",
    "    if (ret == -1) println(\"calloc could not allocate another bloc\") end\n",
    "    return ret\n",
    "end\n",
    "```"
   ]
  },
  {
   "cell_type": "markdown",
   "metadata": {
    "slideshow": {
     "slide_type": "fragment"
    }
   },
   "source": [
    "```julia\n",
    "function free(num::Int)\n",
    "    ccall(fre_ptr, Int64, (Int64, ), num)\n",
    "end\n",
    "```"
   ]
  },
  {
   "cell_type": "markdown",
   "metadata": {
    "slideshow": {
     "slide_type": "fragment"
    }
   },
   "source": [
    "```julia\n",
    "function set_values(num::Int, vals::Array{Float64, 1})\n",
    "    ret = ccall(set_ptr, Int64, (Int64, Int64, Ptr{Float64}), size(vals, 1), num, vals)\n",
    "    return ret\n",
    "end\n",
    "```"
   ]
  },
  {
   "cell_type": "markdown",
   "metadata": {
    "slideshow": {
     "slide_type": "fragment"
    }
   },
   "source": [
    "```julia\n",
    "function get_values(num::Int, vals::Array{Float64, 1})\n",
    "    ret = ccall(get_ptr, Int64, (Int64, Int64, Ptr{Float64}), size(vals, 1), num, vals)\n",
    "    return ret\n",
    "end\n",
    "``` "
   ]
  },
  {
   "cell_type": "markdown",
   "metadata": {
    "slideshow": {
     "slide_type": "fragment"
    }
   },
   "source": [
    "- we now could use the C code to allocate some double memory blocks\n",
    "```julia\n",
    "h1 = alloc(10); h2 = alloc(5)\n",
    "a = collect(1.:10.)\n",
    "set_values(h1, a)\n",
    "b = zeros(3)\n",
    "ret2 = get_values(h1, b)\n",
    "println(\"b = $b\")\n",
    "free(h1)\n",
    "h3 = alloc(1); h4 = alloc(1); h5 = alloc(1)\n",
    "```"
   ]
  },
  {
   "cell_type": "code",
   "execution_count": 5,
   "metadata": {
    "slideshow": {
     "slide_type": "fragment"
    }
   },
   "outputs": [
    {
     "name": "stdout",
     "output_type": "stream",
     "text": [
      "b = [1.0, 2.0, 3.0]\n",
      "allocation table is full\n"
     ]
    },
    {
     "data": {
      "text/plain": [
       "-2"
      ]
     },
     "execution_count": 5,
     "metadata": {},
     "output_type": "execute_result"
    }
   ],
   "source": [
    "include(\"C/test_myalloc.jl\")"
   ]
  },
  {
   "cell_type": "markdown",
   "metadata": {
    "slideshow": {
     "slide_type": "notes"
    }
   },
   "source": [
    "# Using a reference for a function modifying some arguments\n",
    "- if a function modifying an argument which is not a pointer like\n",
    "```C\n",
    "int increment(int * x) { (*x)++; }\n",
    "```\n",
    "- you **have to** use a *julia reference* such as in\n",
    "```julia\n",
    "a = Ref{Cint}(12)\n",
    "ccall((:increment, \"libincrement.so\"), Cvoid, (Ref{Cint},), a)\n",
    "println(a[])\n",
    "```\n",
    "    "
   ]
  },
  {
   "cell_type": "markdown",
   "metadata": {
    "slideshow": {
     "slide_type": "slide"
    }
   },
   "source": [
    "## Calling Fortran code\n",
    "- the principle is the same for C, modulo mangling of the name → use `bind` to mangle correctly the name"
   ]
  },
  {
   "cell_type": "markdown",
   "metadata": {
    "slideshow": {
     "slide_type": "fragment"
    }
   },
   "source": [
    "```fortran\n",
    "module heat\n",
    "    use iso_c_binding, only: c_int32_t, c_double\n",
    "    public :: kernel\n",
    "contains\n",
    "    subroutine kernel(m, n, u_in,  u_out, error) bind( C, name=\"heatKernel\" )\n",
    "\n",
    "        implicit none\n",
    "        integer(c_int32_t), intent(in) :: m, n\n",
    "        real(c_double), dimension( 1:m, 1:n ), intent(in) :: u_in\n",
    "        real(c_double), dimension( 1:m, 1:n ), intent(out) :: u_out\n",
    "        real(c_double), intent(out) :: error\n",
    "\n",
    "        integer(c_int32_t) :: i, j\n",
    "\n",
    "        error = 0.d0\n",
    "        u_out(2:m-1,2:n-1) = 4.d0 * u_in(2:m-1, 2:n-1) &\n",
    "                                  - u_in(1:m-2, 2:n-1) &\n",
    "                                  - u_in(3:m, 2:n-1)   &\n",
    "                                  - u_in(2:m-1,1:n-2)  &\n",
    "                                  - u_in(2:m-1,3:n)\n",
    "        error  =  sum((u_out(:,:) - u_in(:,:))**2)\n",
    "\n",
    "    end subroutine kernel\n",
    "end module heat\n",
    "```"
   ]
  },
  {
   "cell_type": "markdown",
   "metadata": {
    "slideshow": {
     "slide_type": "subslide"
    }
   },
   "source": [
    "- could be mapped on a julia function with\n",
    "\n",
    "```julia\n",
    "function heat(src::Array{Float64,2}, dest::Array{Float64,2})\n",
    "    @assert size(dest) == size(src)\n",
    "    (size_x, size_y) = size(dest)\n",
    "    size_x = Int32(size_x) # could overflows\n",
    "    size_y = Int32(size_y)\n",
    "    err = Ref{Float64}(0.) # ✏️ VERY IMPORTANT ✏️ \n",
    "    ccall((:heatKernel, \"./libheatKernel.so\"), Cvoid, (Ref{Int32}, Ref{Int32}, Ptr{Float64}, Ptr{Float64}, Ref{Float64}), size_x, size_y, src, dest, err)\n",
    "    return err[]\n",
    "end\n",
    "```"
   ]
  },
  {
   "cell_type": "markdown",
   "metadata": {
    "slideshow": {
     "slide_type": "fragment"
    }
   },
   "source": [
    "## Remarks\n",
    "- since fortran pass value by address, all values are mapped on reference\n",
    "- `err` is modify in the subroutine, we **must** declare as a `Ref{Float64}`\n",
    "- arrays could be passed as `Ptr{Float64}`\n",
    "- we also use here standards like `c_double` to enforce portability"
   ]
  },
  {
   "cell_type": "markdown",
   "metadata": {
    "slideshow": {
     "slide_type": "slide"
    }
   },
   "source": [
    "## Example with MPI\n",
    "- sometimes, we want to call a parallel code using MPI \n",
    "\n",
    "```fortran\n",
    "subroutine solve(n_x, n_y, p_x, p_y, snapshot_step, snapshot_size, iter_max, solution) bind( C, name=\"solve\" )\n",
    "  use iso_c_binding, only: c_int32_t, c_double\n",
    "  use communications\n",
    "  use heat\n",
    "  use mpi\n",
    "  implicit none\n",
    "  integer(c_int32_t), intent(in) :: n_x, n_y ! sizes of the global matrix\n",
    "  integer(c_int32_t), intent(in) :: p_x, p_y ! nb of processes (in each dimensions)\n",
    "  integer(c_int32_t), intent(in) :: snapshot_step, snapshot_size\n",
    "  integer(c_int32_t), intent(inout) ::  iter_max ! max number of iterations\n",
    "  real(c_double), intent(inout) :: solution(1:n_x, 1:n_y, 1:snapshot_size)\n",
    "\n",
    "  ! (...)\n",
    "  call set_bounds( coords, p_x, p_y, u_in)\n",
    "  call set_bounds( coords, p_x, p_y, u_out)\n",
    "\n",
    "  do i=1, iter_max\n",
    "\n",
    "      call stencil_4( h_x, h_y, d_t, u_in, u_out, error_loc )\n",
    "      call MPI_ALLREDUCE( error_loc, error, 1, MPI_DOUBLE_PRECISION, MPI_SUM, MPI_COMM_WORLD, ierr )\n",
    "      error = sqrt( error )\n",
    "\n",
    "      if (mod( i, snapshot_step ) == 0)  then\n",
    "          !(...)\n",
    "          call gather_solution( sol_space, n_x, n_y, u_in, ndims, comm2D, is_master )\n",
    "          if (is_master) solution(:, :, i / snapshot_step) = sol_space(:, :)\n",
    "          !(...)\n",
    "      end if\n",
    "\n",
    "      call ghosts_swap( comm2D, type_row, neighbour, u_in )\n",
    "      u_in = u_out\n",
    "      if (error <= prec) exit\n",
    "  end do\n",
    "\n",
    "  if (i < iter_max ) iter_max = i ! to know if we do all loops\n",
    "  !(...) \n",
    "\n",
    "  end subroutine solve\n",
    "```\n"
   ]
  },
  {
   "cell_type": "markdown",
   "metadata": {
    "slideshow": {
     "slide_type": "subslide"
    }
   },
   "source": [
    "-  we can call this code using MPI package → using MPI will do the **job**"
   ]
  },
  {
   "cell_type": "markdown",
   "metadata": {
    "slideshow": {
     "slide_type": "fragment"
    }
   },
   "source": [
    "```julia\n",
    "import MPI\n",
    "\n",
    "function main()\n",
    "    MPI.Init()\n",
    "    comm = MPI.COMM_WORLD\n",
    "    commSize = MPI.Comm_size(comm)\n",
    "    commRank = MPI.Comm_rank(comm)\n",
    "    nArg = size(ARGS, 1)\n",
    "    # (..) some checks about nargs \n",
    "    nX, nY, pX, pY, iterMax, snapshotStep = map(x->parse(Int32, x), ARGS)\n",
    "    # (...) some checks than pX*pY == commSize\n",
    "    @assert snapshotStep < iterMax\n",
    "    snapshotSize = max(iterMax ÷ snapshotStep, 1)\n",
    "    iter = Ref{Int32}(iterMax) # very important !!\n",
    "    solution = zeros(nX, nY, snapshotSize)\n",
    "\n",
    "    ccall((:solve, \"./libheat_solve.so\"), Cvoid,\n",
    "    (Ref{Int32}, Ref{Int32}, Ref{Int32}, Ref{Int32},  Ref{Int32},  Ref{Int32}, Ref{Int32}, Ptr{Float64}),\n",
    "     nX, nY, pX, pY, snapshotStep, snapshotSize,  iter, solution\n",
    "    )\n",
    "    iter = iter[] # very important !!\n",
    "    if (commRank == 0)\n",
    "        indexToDisplay = (iter == iterMax ? snapshotSize : (iter ÷ snapshotStep))\n",
    "        show(IOContext(stdout, :limit=>true), \"text/plain\", solution[:, : , indexToDisplay]);\n",
    "    end\n",
    "    MPI.Finalize()\n",
    "end\n",
    "main()\n",
    "```"
   ]
  },
  {
   "cell_type": "markdown",
   "metadata": {
    "slideshow": {
     "slide_type": "fragment"
    }
   },
   "source": [
    "- after we can call the code in a shell doing \n",
    "```sh\n",
    "mpirun -np 4 julia heat_solve.jl 6 6 2 2 30 10\n",
    "```"
   ]
  },
  {
   "cell_type": "markdown",
   "metadata": {
    "slideshow": {
     "slide_type": "slide"
    }
   },
   "source": [
    "# Calling Python from Julia\n",
    "- we could calling Python using the package **PyCall** : PyPlot package binding method uses PyCall\n"
   ]
  },
  {
   "cell_type": "markdown",
   "metadata": {
    "slideshow": {
     "slide_type": "fragment"
    }
   },
   "source": [
    " - we could import a python symbol"
   ]
  },
  {
   "cell_type": "code",
   "execution_count": 2,
   "metadata": {
    "slideshow": {
     "slide_type": "-"
    }
   },
   "outputs": [
    {
     "data": {
      "text/plain": [
       "1×5 LinearAlgebra.Transpose{Int64,Array{Int64,1}}:\n",
       " 0  1  2  3  4"
      ]
     },
     "execution_count": 2,
     "metadata": {},
     "output_type": "execute_result"
    }
   ],
   "source": [
    "using PyCall\n",
    "@pyimport numpy\n",
    "a = transpose(numpy.arange((5)))"
   ]
  },
  {
   "cell_type": "markdown",
   "metadata": {
    "slideshow": {
     "slide_type": "fragment"
    }
   },
   "source": [
    "- If we need to convert more complex objects than primitives types, we use `[\"name_field\"]` to access the fields"
   ]
  },
  {
   "cell_type": "code",
   "execution_count": null,
   "metadata": {},
   "outputs": [],
   "source": [
    "using PyCall\n"
   ]
  }
 ],
 "metadata": {
  "celltoolbar": "Slideshow",
  "kernelspec": {
   "display_name": "Julia 1.1.0-rc2",
   "language": "julia",
   "name": "julia-1.1"
  },
  "language_info": {
   "file_extension": ".jl",
   "mimetype": "application/julia",
   "name": "julia",
   "version": "1.1.0"
  }
 },
 "nbformat": 4,
 "nbformat_minor": 2
}
