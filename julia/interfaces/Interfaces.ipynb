{
 "cells": [
  {
   "cell_type": "markdown",
   "metadata": {
    "slideshow": {
     "slide_type": "slide"
    }
   },
   "source": [
    "<center>\n",
    "<H1> Calling others languages in <H1>\n",
    "<img src=\"julia.png\" width=\"400\">\n",
    "</center> \n",
    "    \n",
    "- source available at https://github.com/aitzkora/nahasketa/tree/master/julia/interfaces \n",
    "- disclaimer :\n",
    " - we address only the **Julia** calling other code part\n",
    " - only tested under Linux      \n",
    "    "
   ]
  },
  {
   "cell_type": "markdown",
   "metadata": {
    "slideshow": {
     "slide_type": "slide"
    }
   },
   "source": [
    "# Outline\n",
    "## calling C code\n",
    "## calling Fortran code \n",
    "## calling Python"
   ]
  },
  {
   "cell_type": "markdown",
   "metadata": {
    "slideshow": {
     "slide_type": "slide"
    }
   },
   "source": [
    "# Calling  C code \n",
    "\n",
    "the basic julia syntax to interface with C code is \n",
    "\n",
    "```julia\n",
    "ccall((:funcName, library), returnType, (argType1, argType2, ...), (argVal1, argVal2, ...))\n",
    "```\n",
    "## Remarks \n",
    "- library is a _formally_ a string :\n",
    " - you could use `\"./mylib.so\"`   \n",
    " - but ⚠ you **could not** use `string(pwd(),\"/mylib.so\")` ⚠ \n",
    "- to use a library which is not in `.`, add the path to `LD_LIBRARY_PATH` before launching **Julia**"
   ]
  },
  {
   "cell_type": "markdown",
   "metadata": {
    "slideshow": {
     "slide_type": "slide"
    }
   },
   "source": [
    "# Basic example \n",
    "- we want to call a scalar function taking one int and returning one int\n",
    "- we write the C function and compile it"
   ]
  },
  {
   "cell_type": "code",
   "execution_count": 30,
   "metadata": {
    "slideshow": {
     "slide_type": "fragment"
    }
   },
   "outputs": [],
   "source": [
    "io = open(\"C/skel.c\",\"w\")\n",
    "write(io, \"int ajoute2(int x) { return x+2; }\")\n",
    "close(io)\n",
    "run(`gcc -o C/ajoute2.so --shared C/skel.c`);"
   ]
  },
  {
   "cell_type": "markdown",
   "metadata": {
    "slideshow": {
     "slide_type": "fragment"
    }
   },
   "source": [
    "- and we call it in Julia"
   ]
  },
  {
   "cell_type": "code",
   "execution_count": 31,
   "metadata": {
    "slideshow": {
     "slide_type": "fragment"
    }
   },
   "outputs": [
    {
     "name": "stdout",
     "output_type": "stream",
     "text": [
      "w = 14\n"
     ]
    }
   ],
   "source": [
    "w = ccall((:ajoute2, \"ajoute2.so\"), Int32, (Int32,), 12)\n",
    "run(`rm C/ajoute2.so C/skel.c`)\n",
    "println(\"w = $w\")"
   ]
  },
  {
   "cell_type": "markdown",
   "metadata": {
    "slideshow": {
     "slide_type": "slide"
    }
   },
   "source": [
    "# Example with a matrix\n",
    "- We can call the following C code\n",
    "```C\n",
    "#include <inttypes.h>\n",
    "double mysum(int64_t m, int64_t n, double *x)\n",
    "{\n",
    "   double s = 0.;\n",
    "   int i,j;\n",
    "   for(i = 0; i < m; ++i)\n",
    "       for(j = 0; j < n; ++j)\n",
    "            s += x[i * n + j];\n",
    "   return s;\n",
    "}\n",
    "```\n",
    "- using \n",
    "\n",
    "```julia\n",
    "a = reshape(collect(1.:10.), 5, 2)\n",
    "s = ccall((:mysum, \"./mysum.so\"), Float64, (Int64, Int64, Ptr{Float64}), size(a, 1), size(a, 2), a)\n",
    "```\n",
    "\n",
    "## Notes : \n",
    "\n",
    "- we use `Ptr{Float64}` to pass a matrix to the function\n",
    "- using standards types like `int64_t` is not mandatory, but enforces compatibility trough more portability \n",
    "- we could also use `Cdouble` and `Cint` in Julia code"
   ]
  },
  {
   "cell_type": "markdown",
   "metadata": {
    "slideshow": {
     "slide_type": "slide"
    }
   },
   "source": [
    "# Calling a Julia Function in the C code called by Julia \n",
    "- using a function ptr `double (*fun) (double)` in C code\n",
    "\n",
    "```C\n",
    "#include <inttypes.h>\n",
    "\n",
    "double apply_f(double (*fun)(double), int64_t x_n , double *x, double * y)\n",
    "{\n",
    "  int64_t i;\n",
    "  for(i = 0; i < x_n; ++i)\n",
    "      i[y] = (*fun)(i[x]);\n",
    "}\n",
    "```\n",
    "and the `@cfuntion@` julia macro as in \n",
    "\n",
    "```julia\n",
    "a = collect(1.:10.)\n",
    "fun = @cfunction(x->x*x, Float64, (Float64,))\n",
    "b = zeros(10)\n",
    "s = ccall((:apply_f, \"libjuliafun.so\"), Cvoid, (Ptr{Cvoid}, Cint, Ptr{Cdouble}, Ptr{Cdouble}), fun, 10, a, b)\n",
    "println(\"b = $b\")\n",
    "```\n",
    "one could call julia function into the C code"
   ]
  },
  {
   "cell_type": "code",
   "execution_count": 4,
   "metadata": {
    "slideshow": {
     "slide_type": "fragment"
    }
   },
   "outputs": [
    {
     "name": "stdout",
     "output_type": "stream",
     "text": [
      "b = [1.0, 4.0, 9.0, 16.0, 25.0, 36.0, 49.0, 64.0, 81.0, 100.0]\n"
     ]
    }
   ],
   "source": [
    "include(\"C/test_apply_f.jl\")"
   ]
  },
  {
   "cell_type": "markdown",
   "metadata": {
    "slideshow": {
     "slide_type": "slide"
    }
   },
   "source": [
    "# Basic C++ support\n",
    "- we can use C++ code, as long as we provided a `extern \"C\"` interface for the entry function \n",
    "\n",
    "```C\n",
    "#include <cinttypes>\n",
    "#include <vector>\n",
    "#include <numeric>\n",
    "\n",
    "extern \"C\" {\n",
    "double mysum2(int64_t n, double *x);\n",
    "};\n",
    "\n",
    "double mysum2(int64_t n, double *x)\n",
    "{\n",
    "    double s = 0;\n",
    "    std::vector<double> t(x, x + n);\n",
    "    for(auto & z : t) s+= z;\n",
    "    return s;\n",
    "}\n",
    "```\n",
    "can be called as \n",
    "\n",
    "```julia\n",
    "a = collect(1.:10.)\n",
    "s = ccall((:mysum2, \"libmysum2.so\"), Float64, (Int64, Ptr{Float64}), size(a, 1), a)\n",
    "println(\"s = $s\")\n",
    "```"
   ]
  },
  {
   "cell_type": "code",
   "execution_count": 3,
   "metadata": {
    "slideshow": {
     "slide_type": "fragment"
    }
   },
   "outputs": [
    {
     "name": "stdout",
     "output_type": "stream",
     "text": [
      "s = 55.0\n"
     ]
    }
   ],
   "source": [
    "include(\"C/test_mysum2.jl\")"
   ]
  }
 ],
 "metadata": {
  "celltoolbar": "Slideshow",
  "kernelspec": {
   "display_name": "Julia 1.1.0-rc2",
   "language": "julia",
   "name": "julia-1.1"
  },
  "language_info": {
   "file_extension": ".jl",
   "mimetype": "application/julia",
   "name": "julia",
   "version": "1.1.0"
  }
 },
 "nbformat": 4,
 "nbformat_minor": 2
}
