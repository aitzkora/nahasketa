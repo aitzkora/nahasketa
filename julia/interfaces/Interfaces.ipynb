{
 "cells": [
  {
   "cell_type": "markdown",
   "metadata": {
    "slideshow": {
     "slide_type": "slide"
    }
   },
   "source": [
    "<center>\n",
    "<H1> Calling others languages in *Julia*  <H1>\n",
    "<img src=\"julia.png\" width=\"400\"\n",
    "</center> "
   ]
  },
  {
   "cell_type": "markdown",
   "metadata": {
    "slideshow": {
     "slide_type": "slide"
    }
   },
   "source": [
    "# Outline\n",
    "## calling C code\n",
    "## calling Fortran code \n",
    "## calling Python"
   ]
  },
  {
   "cell_type": "markdown",
   "metadata": {
    "slideshow": {
     "slide_type": "slide"
    }
   },
   "source": [
    "# Calling  C code \n",
    "\n",
    " the basic julia call to interface with C code is *ccall* \n",
    " "
   ]
  },
  {
   "cell_type": "code",
   "execution_count": 4,
   "metadata": {
    "slideshow": {
     "slide_type": "fragment"
    }
   },
   "outputs": [
    {
     "name": "stdout",
     "output_type": "stream",
     "text": [
      "search: \u001b[0m\u001b[1mc\u001b[22m\u001b[0m\u001b[1mc\u001b[22m\u001b[0m\u001b[1ma\u001b[22m\u001b[0m\u001b[1ml\u001b[22m\u001b[0m\u001b[1ml\u001b[22m Abstra\u001b[0m\u001b[1mc\u001b[22mt\u001b[0m\u001b[1mC\u001b[22mh\u001b[0m\u001b[1ma\u001b[22mnne\u001b[0m\u001b[1ml\u001b[22m\n",
      "\n"
     ]
    },
    {
     "data": {
      "text/latex": [
       "\\begin{verbatim}\n",
       "ccall((function_name, library), returntype, (argtype1, ...), argvalue1, ...)\n",
       "ccall(function_name, returntype, (argtype1, ...), argvalue1, ...)\n",
       "ccall(function_pointer, returntype, (argtype1, ...), argvalue1, ...)\n",
       "\\end{verbatim}\n",
       "Call a function in a C-exported shared library, specified by the tuple \\texttt{(function\\_name, library)}, where each component is either a string or symbol. Instead of specifying a library, one can also use a \\texttt{function\\_name} symbol or string, which is resolved in the current process. Alternatively, \\texttt{ccall} may also be used to call a function pointer \\texttt{function\\_pointer}, such as one returned by \\texttt{dlsym}.\n",
       "\n",
       "Note that the argument type tuple must be a literal tuple, and not a tuple-valued variable or expression.\n",
       "\n",
       "Each \\texttt{argvalue} to the \\texttt{ccall} will be converted to the corresponding \\texttt{argtype}, by automatic insertion of calls to \\texttt{unsafe\\_convert(argtype, cconvert(argtype, argvalue))}. (See also the documentation for \\href{@ref Base.unsafe_convert}{\\texttt{unsafe\\_convert}} and \\href{@ref Base.cconvert}{\\texttt{cconvert}} for further details.) In most cases, this simply results in a call to \\texttt{convert(argtype, argvalue)}.\n",
       "\n"
      ],
      "text/markdown": [
       "```\n",
       "ccall((function_name, library), returntype, (argtype1, ...), argvalue1, ...)\n",
       "ccall(function_name, returntype, (argtype1, ...), argvalue1, ...)\n",
       "ccall(function_pointer, returntype, (argtype1, ...), argvalue1, ...)\n",
       "```\n",
       "\n",
       "Call a function in a C-exported shared library, specified by the tuple `(function_name, library)`, where each component is either a string or symbol. Instead of specifying a library, one can also use a `function_name` symbol or string, which is resolved in the current process. Alternatively, `ccall` may also be used to call a function pointer `function_pointer`, such as one returned by `dlsym`.\n",
       "\n",
       "Note that the argument type tuple must be a literal tuple, and not a tuple-valued variable or expression.\n",
       "\n",
       "Each `argvalue` to the `ccall` will be converted to the corresponding `argtype`, by automatic insertion of calls to `unsafe_convert(argtype, cconvert(argtype, argvalue))`. (See also the documentation for [`unsafe_convert`](@ref Base.unsafe_convert) and [`cconvert`](@ref Base.cconvert) for further details.) In most cases, this simply results in a call to `convert(argtype, argvalue)`.\n"
      ],
      "text/plain": [
       "\u001b[36m  ccall((function_name, library), returntype, (argtype1, ...), argvalue1, ...)\u001b[39m\n",
       "\u001b[36m  ccall(function_name, returntype, (argtype1, ...), argvalue1, ...)\u001b[39m\n",
       "\u001b[36m  ccall(function_pointer, returntype, (argtype1, ...), argvalue1, ...)\u001b[39m\n",
       "\n",
       "  Call a function in a C-exported shared library, specified by the tuple\n",
       "  \u001b[36m(function_name, library)\u001b[39m, where each component is either a string or symbol.\n",
       "  Instead of specifying a library, one can also use a \u001b[36mfunction_name\u001b[39m symbol or\n",
       "  string, which is resolved in the current process. Alternatively, \u001b[36mccall\u001b[39m may\n",
       "  also be used to call a function pointer \u001b[36mfunction_pointer\u001b[39m, such as one\n",
       "  returned by \u001b[36mdlsym\u001b[39m.\n",
       "\n",
       "  Note that the argument type tuple must be a literal tuple, and not a\n",
       "  tuple-valued variable or expression.\n",
       "\n",
       "  Each \u001b[36margvalue\u001b[39m to the \u001b[36mccall\u001b[39m will be converted to the corresponding \u001b[36margtype\u001b[39m,\n",
       "  by automatic insertion of calls to \u001b[36munsafe_convert(argtype, cconvert(argtype,\n",
       "  argvalue))\u001b[39m. (See also the documentation for \u001b[36munsafe_convert\u001b[39m and \u001b[36mcconvert\u001b[39m for\n",
       "  further details.) In most cases, this simply results in a call to\n",
       "  \u001b[36mconvert(argtype, argvalue)\u001b[39m."
      ]
     },
     "execution_count": 4,
     "metadata": {},
     "output_type": "execute_result"
    }
   ],
   "source": [
    "?ccall"
   ]
  },
  {
   "cell_type": "markdown",
   "metadata": {
    "slideshow": {
     "slide_type": "slide"
    }
   },
   "source": [
    "# Basic example \n"
   ]
  },
  {
   "cell_type": "code",
   "execution_count": 1,
   "metadata": {
    "slideshow": {
     "slide_type": "fragment"
    }
   },
   "outputs": [
    {
     "name": "stdout",
     "output_type": "stream",
     "text": [
      "w = 14\n"
     ]
    }
   ],
   "source": [
    "io = open(\"skel.c\",\"w\")\n",
    "write(io, \"int ajoute2(int x) { return x+2; }\")\n",
    "close(io)\n",
    "run(`gcc -o ajoute2.so --shared skel.c`)\n",
    "w = ccall((:ajoute2, \"./ajoute2.so\"), Int32, (Int32,), 12)\n",
    "run(`rm ajoute2.so skel.c`)\n",
    "println(\"w = $w\")\n"
   ]
  },
  {
   "cell_type": "markdown",
   "metadata": {
    "slideshow": {
     "slide_type": "fragment"
    }
   },
   "source": [
    "the called function `ajoute2` takes just one argument and returns one argument"
   ]
  },
  {
   "cell_type": "markdown",
   "metadata": {
    "slideshow": {
     "slide_type": "slide"
    }
   },
   "source": [
    "# Example with a matrix\n",
    "- We can call the following C code\n",
    "```C\n",
    "#include <inttypes.h>\n",
    "double mysum(int64_t m, int64_t n, double *x)\n",
    "{\n",
    "   double s = 0.;\n",
    "   int i,j;\n",
    "   for(i = 0; i < m; ++i)\n",
    "       for(j = 0; j < n; ++j)\n",
    "            s += x[i * n + j];\n",
    "   return s;\n",
    "}\n",
    "```\n",
    "- using \n",
    "```julia\n",
    "a = reshape(collect(1.:10.), 5, 2)\n",
    "s = ccall((:mysum, \"./mysum.so\"), Float64, (Int64, Int64, Ptr{Float64}), size(a, 1), size(a, 2), a)\n",
    "```\n",
    "## Notes : \n",
    "- we use `Ptr{Float64}` to pass a matrix to the function\n",
    "- using standards types like `int64_t` is not mandatory, but enforces compatibility trough more portability"
   ]
  },
  {
   "cell_type": "markdown",
   "metadata": {
    "slideshow": {
     "slide_type": "slide"
    }
   },
   "source": [
    "# Basic C++ support\n",
    "- we can use C++ code, as long as we provided a `extern \"C\"` interface for the entry function \n",
    "\n",
    "```C\n",
    "#include <cinttypes>\n",
    "#include <vector>\n",
    "#include <numeric>\n",
    "\n",
    "extern \"C\" {\n",
    "double mysum2(int64_t n, double *x);\n",
    "};\n",
    "\n",
    "double mysum2(int64_t n, double *x)\n",
    "{\n",
    "    double s = 0;\n",
    "    std::vector<double> t(x, x + n);\n",
    "    for(auto & z : t) s+= z;\n",
    "    return s;\n",
    "}\n",
    "```\n",
    "can be called as \n",
    "\n",
    "```julia\n",
    "a = collect(1.:10.)\n",
    "s = ccall((:mysum2, \"./libmysum2.so\"), Float64, (Int64, Ptr{Float64}), size(a, 1), a)\n",
    "println(\"s = $s\")\n",
    "```"
   ]
  },
  {
   "cell_type": "code",
   "execution_count": 2,
   "metadata": {},
   "outputs": [
    {
     "ename": "LoadError",
     "evalue": "error compiling top-level scope: could not load library \"./libmysum2.so\"\n./libmysum2.so: cannot open shared object file: No such file or directory",
     "output_type": "error",
     "traceback": [
      "error compiling top-level scope: could not load library \"./libmysum2.so\"\n./libmysum2.so: cannot open shared object file: No such file or directory",
      "",
      "Stacktrace:",
      " [1] include at ./boot.jl:326 [inlined]",
      " [2] include_relative(::Module, ::String) at ./loading.jl:1038",
      " [3] include(::Module, ::String) at ./sysimg.jl:29",
      " [4] include(::String) at ./client.jl:403",
      " [5] top-level scope at In[2]:1"
     ]
    }
   ],
   "source": [
    "include(\"C/test_mysum2.jl\")"
   ]
  }
 ],
 "metadata": {
  "celltoolbar": "Slideshow",
  "kernelspec": {
   "display_name": "Julia 1.1.0-rc2",
   "language": "julia",
   "name": "julia-1.1"
  },
  "language_info": {
   "file_extension": ".jl",
   "mimetype": "application/julia",
   "name": "julia",
   "version": "1.1.0"
  }
 },
 "nbformat": 4,
 "nbformat_minor": 2
}
