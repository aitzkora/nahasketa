{
 "cells": [
  {
   "cell_type": "markdown",
   "metadata": {
    "slideshow": {
     "slide_type": "slide"
    }
   },
   "source": [
    "<center>\n",
    "    <H1> Introduction to Julia </H1>\n",
    "<img src=\"julia.png\" width=\"400\"/>\n",
    "</center>\n"
   ]
  },
  {
   "cell_type": "markdown",
   "metadata": {
    "slideshow": {
     "slide_type": "slide"
    }
   },
   "source": [
    "## Outline\n",
    "\n",
    "- *Julia* as a language for numerical Computation\n",
    "- Functional aspects\n",
    "- Types\n",
    "- Multiple Dispatch\n",
    "- Parallelism\n",
    "- Extensibility"
   ]
  },
  {
   "cell_type": "markdown",
   "metadata": {
    "slideshow": {
     "slide_type": "slide"
    }
   },
   "source": [
    "## A language for numerical computation\n",
    "\n",
    "*Julia*'s  syntax is very similar to langages as *Matlab*, *Python* or *Scilab*, so\n",
    "switching to *Julia* is fast\n",
    "\n",
    "- do not require *vectorized* code to run fast using a LLVM-JIT compiler"
   ]
  },
  {
   "cell_type": "code",
   "execution_count": 1,
   "metadata": {
    "slideshow": {
     "slide_type": "subslide"
    }
   },
   "outputs": [
    {
     "data": {
      "text/plain": [
       "1.377285742"
      ]
     },
     "execution_count": 1,
     "metadata": {},
     "output_type": "execute_result"
    }
   ],
   "source": [
    "using LinearAlgebra, Test\n",
    "function f1(n::Int)\n",
    "    A=zeros(Int64, n,n);\n",
    "    for j=1:n ## Fortran Loop Style  !!!!\n",
    "        for i=1:n\n",
    "            A[i,j] = i^j\n",
    "        end\n",
    "    end\n",
    "    return A\n",
    "end    \n",
    "@elapsed f1(10^4)"
   ]
  },
  {
   "cell_type": "code",
   "execution_count": 2,
   "metadata": {
    "slideshow": {
     "slide_type": "fragment"
    }
   },
   "outputs": [
    {
     "data": {
      "text/plain": [
       "1.445059204"
      ]
     },
     "execution_count": 2,
     "metadata": {},
     "output_type": "execute_result"
    }
   ],
   "source": [
    "function f2(n::Int) \n",
    "   A = collect(1:n).^collect(1:n)'\n",
    "   return A\n",
    "end\n",
    "#@test f1(3) == f2(3)\n",
    "@elapsed f2(10^4)"
   ]
  },
  {
   "cell_type": "markdown",
   "metadata": {
    "slideshow": {
     "slide_type": "subslide"
    }
   },
   "source": [
    "- structs have a objects semantic value (i.e. references)"
   ]
  },
  {
   "cell_type": "code",
   "execution_count": 3,
   "metadata": {
    "slideshow": {
     "slide_type": "fragment"
    }
   },
   "outputs": [
    {
     "data": {
      "text/plain": [
       "2-element Array{Int64,1}:\n",
       " 4\n",
       " 2"
      ]
     },
     "execution_count": 3,
     "metadata": {},
     "output_type": "execute_result"
    }
   ],
   "source": [
    "a = [1,2]\n",
    "b = a \n",
    "a[1] = 4\n",
    "b"
   ]
  },
  {
   "cell_type": "markdown",
   "metadata": {
    "slideshow": {
     "slide_type": "subslide"
    }
   },
   "source": [
    "- indices start to 1 and finish to `end` and use brackets `[,]` for indexing"
   ]
  },
  {
   "cell_type": "code",
   "execution_count": 4,
   "metadata": {
    "slideshow": {
     "slide_type": "fragment"
    }
   },
   "outputs": [
    {
     "data": {
      "text/plain": [
       "2×2 Array{Float64,2}:\n",
       " 0.890128  1.0\n",
       " 0.654133  1.0"
      ]
     },
     "execution_count": 4,
     "metadata": {},
     "output_type": "execute_result"
    }
   ],
   "source": [
    "a = rand(2,2)\n",
    "a[:, end] .= 1\n",
    "a"
   ]
  },
  {
   "cell_type": "markdown",
   "metadata": {
    "slideshow": {
     "slide_type": "fragment"
    }
   },
   "source": [
    "- it supports broadcasting, ie. `(1,n)` and `(m, n)` → `(m,n)` and `(m,n)`"
   ]
  },
  {
   "cell_type": "code",
   "execution_count": 5,
   "metadata": {
    "slideshow": {
     "slide_type": "fragment"
    }
   },
   "outputs": [
    {
     "data": {
      "text/plain": [
       "1×3 Array{Float64,2}:\n",
       " 1.85037e-17  1.11022e-16  1.85037e-17"
      ]
     },
     "execution_count": 5,
     "metadata": {},
     "output_type": "execute_result"
    }
   ],
   "source": [
    "using Statistics\n",
    "a=rand(3,3)\n",
    "μ=mean(a, dims=1)\n",
    "mean(a.-μ, dims=1)"
   ]
  },
  {
   "cell_type": "markdown",
   "metadata": {
    "slideshow": {
     "slide_type": "fragment"
    }
   },
   "source": [
    "- 1D arrays support"
   ]
  },
  {
   "cell_type": "code",
   "execution_count": 6,
   "metadata": {
    "slideshow": {
     "slide_type": "fragment"
    }
   },
   "outputs": [
    {
     "data": {
      "text/plain": [
       "Array{Float64,2}"
      ]
     },
     "execution_count": 6,
     "metadata": {},
     "output_type": "execute_result"
    }
   ],
   "source": [
    "typeof(rand(3,1))"
   ]
  },
  {
   "cell_type": "code",
   "execution_count": 7,
   "metadata": {
    "slideshow": {
     "slide_type": "fragment"
    }
   },
   "outputs": [
    {
     "data": {
      "text/plain": [
       "Array{Float64,1}"
      ]
     },
     "execution_count": 7,
     "metadata": {},
     "output_type": "execute_result"
    }
   ],
   "source": [
    "typeof(rand(3))"
   ]
  },
  {
   "cell_type": "markdown",
   "metadata": {
    "slideshow": {
     "slide_type": "fragment"
    }
   },
   "source": [
    "- Unicode symbol for notation and some operations "
   ]
  },
  {
   "cell_type": "code",
   "execution_count": 8,
   "metadata": {
    "slideshow": {
     "slide_type": "fragment"
    }
   },
   "outputs": [
    {
     "data": {
      "text/plain": [
       "0.0 + 1.0im"
      ]
     },
     "execution_count": 8,
     "metadata": {},
     "output_type": "execute_result"
    }
   ],
   "source": [
    "√Complex(-1)"
   ]
  },
  {
   "cell_type": "markdown",
   "metadata": {
    "slideshow": {
     "slide_type": "slide"
    }
   },
   "source": [
    "## Functionals aspects\n",
    "\n",
    "- list comprehensions"
   ]
  },
  {
   "cell_type": "code",
   "execution_count": 9,
   "metadata": {
    "slideshow": {
     "slide_type": "fragment"
    }
   },
   "outputs": [
    {
     "data": {
      "text/plain": [
       "1//2160"
      ]
     },
     "execution_count": 9,
     "metadata": {},
     "output_type": "execute_result"
    }
   ],
   "source": [
    "hilbert(n::Int) = reshape([ 1//(i+j-1) for i=1:n for j=1:n],n,n)\n",
    "H₃=hilbert(3) \n",
    "det(H₃)"
   ]
  },
  {
   "cell_type": "markdown",
   "metadata": {
    "slideshow": {
     "slide_type": "fragment"
    }
   },
   "source": [
    "- Anonymous functions : `(x -> x*x)(2) `\n",
    "- supports for `map`, `reduce`, `filter` functions"
   ]
  },
  {
   "cell_type": "code",
   "execution_count": 10,
   "metadata": {
    "slideshow": {
     "slide_type": "fragment"
    }
   },
   "outputs": [
    {
     "data": {
      "text/plain": [
       "1-element Array{Int64,1}:\n",
       " 26"
      ]
     },
     "execution_count": 10,
     "metadata": {},
     "output_type": "execute_result"
    }
   ],
   "source": [
    "# seeking integers between squares and cubes\n",
    "supSquares = filter(x->abs(√(x-1)-round(√(x-1))) < 1e-12, 1:100)\n",
    "infCubes = filter(x->abs(∛(x+1)-round(∛(x+1))) < 1e-12, 1:100)\n",
    "ξ = intersect(supSquares, infCubes)"
   ]
  },
  {
   "cell_type": "markdown",
   "metadata": {
    "slideshow": {
     "slide_type": "subslide"
    }
   },
   "source": [
    "- functions support variadic arguments (using tuples or names)\n",
    "- functions are not supposed to modify their arguments, otherwise they follow the `!` convention like `sort!`"
   ]
  },
  {
   "cell_type": "code",
   "execution_count": 11,
   "metadata": {
    "slideshow": {
     "slide_type": "fragment"
    }
   },
   "outputs": [
    {
     "name": "stdout",
     "output_type": "stream",
     "text": [
      "sort(s)=[1, 3, 4]\n",
      "s=[4, 1, 3]\n",
      "s=[1, 3, 4]\n"
     ]
    }
   ],
   "source": [
    "s=[4,1,3]; println(\"sort(s)=\",sort(s));println(\"s=\",s); sort!(s); println(\"s=\",s)"
   ]
  },
  {
   "cell_type": "markdown",
   "metadata": {
    "slideshow": {
     "slide_type": "fragment"
    }
   },
   "source": [
    "- support metaprogramming : like in Lisp \"Code is data and data is code\""
   ]
  },
  {
   "cell_type": "code",
   "execution_count": 12,
   "metadata": {
    "slideshow": {
     "slide_type": "fragment"
    }
   },
   "outputs": [
    {
     "name": "stdout",
     "output_type": "stream",
     "text": [
      "Expr\n",
      "Any[:+, 2, 2]\n",
      "4\n"
     ]
    }
   ],
   "source": [
    "e = :(2+2); println(typeof(e)); println(e.args); println(eval(e))"
   ]
  },
  {
   "cell_type": "markdown",
   "metadata": {
    "slideshow": {
     "slide_type": "slide"
    }
   },
   "source": [
    "## Types\n",
    "Julia has a hierarchy of types defined by a graph with `Any` as a root"
   ]
  },
  {
   "cell_type": "code",
   "execution_count": 13,
   "metadata": {
    "slideshow": {
     "slide_type": "fragment"
    }
   },
   "outputs": [
    {
     "data": {
      "text/plain": [
       "4-element Array{Any,1}:\n",
       " AbstractFloat     \n",
       " AbstractIrrational\n",
       " Integer           \n",
       " Rational          "
      ]
     },
     "execution_count": 13,
     "metadata": {},
     "output_type": "execute_result"
    }
   ],
   "source": [
    "subtypes(Real)"
   ]
  },
  {
   "cell_type": "code",
   "execution_count": 83,
   "metadata": {
    "slideshow": {
     "slide_type": "fragment"
    }
   },
   "outputs": [
    {
     "name": "stdout",
     "output_type": "stream",
     "text": [
      "supertype of Real → Number\n",
      "supertype of Number → Any\n"
     ]
    }
   ],
   "source": [
    "println(\"supertype of Real → \", supertype(Real))\n",
    "println(\"supertype of Number → \",supertype(Number))"
   ]
  },
  {
   "cell_type": "markdown",
   "metadata": {
    "slideshow": {
     "slide_type": "subslide"
    }
   },
   "source": [
    "- `x<:y` is the operator for the relation \"x is a subtype of y\""
   ]
  },
  {
   "cell_type": "code",
   "execution_count": 14,
   "metadata": {
    "slideshow": {
     "slide_type": "fragment"
    }
   },
   "outputs": [
    {
     "data": {
      "text/plain": [
       "true"
      ]
     },
     "execution_count": 14,
     "metadata": {},
     "output_type": "execute_result"
    }
   ],
   "source": [
    "Int64 <: Real"
   ]
  },
  {
   "cell_type": "markdown",
   "metadata": {
    "slideshow": {
     "slide_type": "fragment"
    }
   },
   "source": [
    "- some types are abstract (e.g `Real`) → cannot be instantiate"
   ]
  },
  {
   "cell_type": "code",
   "execution_count": 15,
   "metadata": {
    "slideshow": {
     "slide_type": "fragment"
    }
   },
   "outputs": [
    {
     "data": {
      "text/plain": [
       "Float64"
      ]
     },
     "execution_count": 15,
     "metadata": {},
     "output_type": "execute_result"
    }
   ],
   "source": [
    "typeof(Real(1.2))"
   ]
  },
  {
   "cell_type": "markdown",
   "metadata": {
    "slideshow": {
     "slide_type": "fragment"
    }
   },
   "source": [
    "some types are concrete (e.g. `Int64`) → they have not subtype except `Union{}`"
   ]
  },
  {
   "cell_type": "code",
   "execution_count": 16,
   "metadata": {
    "slideshow": {
     "slide_type": "fragment"
    }
   },
   "outputs": [
    {
     "data": {
      "text/plain": [
       "0-element Array{Type,1}"
      ]
     },
     "execution_count": 16,
     "metadata": {},
     "output_type": "execute_result"
    }
   ],
   "source": [
    "subtypes(Int64)"
   ]
  },
  {
   "cell_type": "code",
   "execution_count": 17,
   "metadata": {
    "slideshow": {
     "slide_type": "fragment"
    }
   },
   "outputs": [
    {
     "data": {
      "text/plain": [
       "true"
      ]
     },
     "execution_count": 17,
     "metadata": {},
     "output_type": "execute_result"
    }
   ],
   "source": [
    "Union{}<:Int64"
   ]
  },
  {
   "cell_type": "markdown",
   "metadata": {
    "slideshow": {
     "slide_type": "subslide"
    }
   },
   "source": [
    "## To extend basic types, *Julia* supports\n",
    "- composite types trough `struct` and `mutable struct`"
   ]
  },
  {
   "cell_type": "code",
   "execution_count": 85,
   "metadata": {
    "slideshow": {
     "slide_type": "fragment"
    }
   },
   "outputs": [
    {
     "data": {
      "text/plain": [
       "zutos(2, [1, 2])"
      ]
     },
     "execution_count": 85,
     "metadata": {},
     "output_type": "execute_result"
    }
   ],
   "source": [
    "struct zutos\n",
    "    x::Int\n",
    "    a::Array{Int64,1}\n",
    "end \n",
    "w = zutos(2, [1,2])"
   ]
  },
  {
   "cell_type": "code",
   "execution_count": 86,
   "metadata": {
    "slideshow": {
     "slide_type": "fragment"
    }
   },
   "outputs": [
    {
     "ename": "ErrorException",
     "evalue": "setfield! immutable struct of type zutos cannot be changed",
     "output_type": "error",
     "traceback": [
      "setfield! immutable struct of type zutos cannot be changed",
      "",
      "Stacktrace:",
      " [1] setproperty!(::zutos, ::Symbol, ::Int64) at ./Base.jl:21",
      " [2] top-level scope at In[86]:1"
     ]
    }
   ],
   "source": [
    "w.x = 4"
   ]
  },
  {
   "cell_type": "code",
   "execution_count": 87,
   "metadata": {
    "slideshow": {
     "slide_type": "fragment"
    }
   },
   "outputs": [
    {
     "data": {
      "text/plain": [
       "1×3 Adjoint{Int64,Array{Int64,1}}:\n",
       " 1  2  3"
      ]
     },
     "execution_count": 87,
     "metadata": {},
     "output_type": "execute_result"
    }
   ],
   "source": [
    "append!(w.a,3)'"
   ]
  },
  {
   "cell_type": "markdown",
   "metadata": {
    "slideshow": {
     "slide_type": "subslide"
    }
   },
   "source": [
    "- tuple types"
   ]
  },
  {
   "cell_type": "code",
   "execution_count": 21,
   "metadata": {
    "slideshow": {
     "slide_type": "fragment"
    }
   },
   "outputs": [
    {
     "data": {
      "text/plain": [
       "Tuple{Int64,String}"
      ]
     },
     "execution_count": 21,
     "metadata": {},
     "output_type": "execute_result"
    }
   ],
   "source": [
    "typeof((3,\"haha\"))"
   ]
  },
  {
   "cell_type": "code",
   "execution_count": 22,
   "metadata": {
    "slideshow": {
     "slide_type": "fragment"
    }
   },
   "outputs": [
    {
     "data": {
      "text/plain": [
       "true"
      ]
     },
     "execution_count": 22,
     "metadata": {},
     "output_type": "execute_result"
    }
   ],
   "source": [
    "Tuple{Int64,String} <: Tuple{Real,String}"
   ]
  },
  {
   "cell_type": "markdown",
   "metadata": {
    "slideshow": {
     "slide_type": "fragment"
    }
   },
   "source": [
    "- union types"
   ]
  },
  {
   "cell_type": "code",
   "execution_count": 23,
   "metadata": {
    "slideshow": {
     "slide_type": "fragment"
    }
   },
   "outputs": [
    {
     "data": {
      "text/plain": [
       "true"
      ]
     },
     "execution_count": 23,
     "metadata": {},
     "output_type": "execute_result"
    }
   ],
   "source": [
    "Real <: Union{String, Real}"
   ]
  },
  {
   "cell_type": "markdown",
   "metadata": {
    "slideshow": {
     "slide_type": "subslide"
    }
   },
   "source": [
    "- parametric types "
   ]
  },
  {
   "cell_type": "code",
   "execution_count": 24,
   "metadata": {
    "slideshow": {
     "slide_type": "fragment"
    }
   },
   "outputs": [
    {
     "data": {
      "text/plain": [
       "tableau{Int64}(10, Ptr{Int64} @0x0000000000000000)"
      ]
     },
     "execution_count": 24,
     "metadata": {},
     "output_type": "execute_result"
    }
   ],
   "source": [
    "struct tableau{T<:Number}\n",
    "    n::Int64\n",
    "    a::Ptr{T}\n",
    "end\n",
    "a = tableau{Int64}(10, 0)"
   ]
  },
  {
   "cell_type": "markdown",
   "metadata": {
    "slideshow": {
     "slide_type": "fragment"
    }
   },
   "source": [
    "☢ For efficiency, parametric types are invariants, except Tuples ☢"
   ]
  },
  {
   "cell_type": "code",
   "execution_count": 25,
   "metadata": {
    "slideshow": {
     "slide_type": "fragment"
    }
   },
   "outputs": [
    {
     "data": {
      "text/plain": [
       "false"
      ]
     },
     "execution_count": 25,
     "metadata": {},
     "output_type": "execute_result"
    }
   ],
   "source": [
    "Array{Int64} <: Array{Real}"
   ]
  },
  {
   "cell_type": "markdown",
   "metadata": {
    "slideshow": {
     "slide_type": "slide"
    }
   },
   "source": [
    "## Multiple Dispatch\n",
    "- When Julia executes a function it selects a *method* respect to types of all arguments  : Thus, we can define \n",
    "function piecewisely respectivly to the whole of its arguments"
   ]
  },
  {
   "cell_type": "markdown",
   "metadata": {
    "slideshow": {
     "slide_type": "fragment"
    }
   },
   "source": [
    "- no automatic or magic conversions : for operators  arguments are promoted to a common type (user-definable) and use the specific implementation\n"
   ]
  },
  {
   "cell_type": "code",
   "execution_count": 26,
   "metadata": {
    "slideshow": {
     "slide_type": "fragment"
    }
   },
   "outputs": [
    {
     "data": {
      "text/plain": [
       "CodeInfo(\n",
       "\u001b[90m1 ─\u001b[39m %1 = Base.promote(x, y)\n",
       "\u001b[90m│  \u001b[39m %2 = Core._apply(Base.:+, %1)\n",
       "\u001b[90m└──\u001b[39m      return %2\n",
       ")"
      ]
     },
     "execution_count": 26,
     "metadata": {},
     "output_type": "execute_result"
    }
   ],
   "source": [
    "@code_lowered 1+2."
   ]
  },
  {
   "cell_type": "markdown",
   "metadata": {
    "slideshow": {
     "slide_type": "subslide"
    }
   },
   "source": [
    "- let us define `f`"
   ]
  },
  {
   "cell_type": "code",
   "execution_count": 27,
   "metadata": {
    "slideshow": {
     "slide_type": "fragment"
    }
   },
   "outputs": [
    {
     "name": "stdout",
     "output_type": "stream",
     "text": [
      "7.0\n",
      "7\n"
     ]
    },
    {
     "ename": "MethodError",
     "evalue": "MethodError: no method matching f(::Int64, ::Float64)\nClosest candidates are:\n  f(::Int64, !Matched::Int64) at In[27]:2\n  f(!Matched::Float64, ::Float64) at In[27]:1",
     "output_type": "error",
     "traceback": [
      "MethodError: no method matching f(::Int64, ::Float64)\nClosest candidates are:\n  f(::Int64, !Matched::Int64) at In[27]:2\n  f(!Matched::Float64, ::Float64) at In[27]:1",
      "",
      "Stacktrace:",
      " [1] top-level scope at In[27]:5"
     ]
    }
   ],
   "source": [
    "f(x::Float64,y::Float64) = 2x + y\n",
    "f(x::Int,y::Int) = 2x + y\n",
    "println(f(2.,3.));\n",
    "println(f(2,3));\n",
    "println(f(2,3.));"
   ]
  },
  {
   "cell_type": "markdown",
   "metadata": {
    "slideshow": {
     "slide_type": "fragment"
    }
   },
   "source": [
    "- but if we define `f`"
   ]
  },
  {
   "cell_type": "code",
   "execution_count": 89,
   "metadata": {
    "slideshow": {
     "slide_type": "fragment"
    }
   },
   "outputs": [
    {
     "data": {
      "text/plain": [
       "7.0"
      ]
     },
     "execution_count": 89,
     "metadata": {},
     "output_type": "execute_result"
    }
   ],
   "source": [
    "    f(x::Real, y::Real) = 2x + y\n",
    "    f(2.0, 3) "
   ]
  },
  {
   "cell_type": "code",
   "execution_count": 29,
   "metadata": {
    "slideshow": {
     "slide_type": "fragment"
    }
   },
   "outputs": [
    {
     "data": {
      "text/html": [
       "# 3 methods for generic function <b>f</b>:<ul><li> f(x::<b>Int64</b>, y::<b>Int64</b>) in Main at In[27]:2</li> <li> f(x::<b>Float64</b>, y::<b>Float64</b>) in Main at In[27]:1</li> <li> f(x::<b>Real</b>, y::<b>Real</b>) in Main at In[28]:1</li> </ul>"
      ],
      "text/plain": [
       "# 3 methods for generic function \"f\":\n",
       "[1] f(x::Int64, y::Int64) in Main at In[27]:2\n",
       "[2] f(x::Float64, y::Float64) in Main at In[27]:1\n",
       "[3] f(x::Real, y::Real) in Main at In[28]:1"
      ]
     },
     "execution_count": 29,
     "metadata": {},
     "output_type": "execute_result"
    }
   ],
   "source": [
    "methods(f)"
   ]
  },
  {
   "cell_type": "markdown",
   "metadata": {
    "slideshow": {
     "slide_type": "slide"
    }
   },
   "source": [
    "## Parallelism\n",
    "Julia support parallelism trough differents ways\n",
    "- native distributive parallelism with one master and workers \n",
    "- native shared parallelism  → macros `@threads, @spawn, @wait`\n",
    "- trough MPI.jl could support distributed parallelism\n",
    "- could support GPU trough packages (not treated)"
   ]
  },
  {
   "cell_type": "markdown",
   "metadata": {
    "slideshow": {
     "slide_type": "subslide"
    }
   },
   "source": [
    "## Native distributed parallelism \n",
    "- low level routines\n"
   ]
  },
  {
   "cell_type": "code",
   "execution_count": 30,
   "metadata": {
    "slideshow": {
     "slide_type": "fragment"
    }
   },
   "outputs": [
    {
     "data": {
      "text/plain": [
       "4"
      ]
     },
     "execution_count": 30,
     "metadata": {},
     "output_type": "execute_result"
    }
   ],
   "source": [
    "using Distributed\n",
    "addprocs(3)\n",
    "nprocs()"
   ]
  },
  {
   "cell_type": "code",
   "execution_count": 31,
   "metadata": {
    "slideshow": {
     "slide_type": "fragment"
    }
   },
   "outputs": [
    {
     "data": {
      "text/plain": [
       "666097.769417492"
      ]
     },
     "execution_count": 31,
     "metadata": {},
     "output_type": "execute_result"
    }
   ],
   "source": [
    "res1 = @spawnat 2 sum(rand(1000,1000).^2)\n",
    "res2= @spawnat 3 sum(rand(1000,1000).^2)\n",
    "fetch(res1)+fetch(res2)"
   ]
  },
  {
   "cell_type": "markdown",
   "metadata": {
    "slideshow": {
     "slide_type": "fragment"
    }
   },
   "source": [
    "- high level routines"
   ]
  },
  {
   "cell_type": "code",
   "execution_count": 32,
   "metadata": {
    "slideshow": {
     "slide_type": "fragment"
    }
   },
   "outputs": [
    {
     "name": "stdout",
     "output_type": "stream",
     "text": [
      "  2.105860 seconds (1.31 M allocations: 66.216 MiB, 0.63% gc time)\n"
     ]
    },
    {
     "data": {
      "text/plain": [
       "1.273239544735062e8"
      ]
     },
     "execution_count": 32,
     "metadata": {},
     "output_type": "execute_result"
    }
   ],
   "source": [
    "@everywhere function f3(n::Int)\n",
    "res = @distributed (+) for i=1:n\n",
    "      sin(i*π/n)\n",
    "end\n",
    "return res\n",
    "end\n",
    "@time f3(200000000)"
   ]
  },
  {
   "cell_type": "code",
   "execution_count": 33,
   "metadata": {
    "slideshow": {
     "slide_type": "fragment"
    }
   },
   "outputs": [
    {
     "name": "stdout",
     "output_type": "stream",
     "text": [
      "  3.601152 seconds (23.80 k allocations: 1.254 MiB)\n"
     ]
    },
    {
     "data": {
      "text/plain": [
       "1.2732395447358306e8"
      ]
     },
     "execution_count": 33,
     "metadata": {},
     "output_type": "execute_result"
    }
   ],
   "source": [
    "function f4(n::Int)\n",
    "res =  0\n",
    "for i=1:n\n",
    "      res += sin(i*π/n)\n",
    "end\n",
    "return res\n",
    "end\n",
    "@time f4(200000000)"
   ]
  },
  {
   "cell_type": "markdown",
   "metadata": {
    "slideshow": {
     "slide_type": "subslide"
    }
   },
   "source": [
    "- example with `pmap`"
   ]
  },
  {
   "cell_type": "code",
   "execution_count": 34,
   "metadata": {
    "slideshow": {
     "slide_type": "fragment"
    }
   },
   "outputs": [
    {
     "name": "stdout",
     "output_type": "stream",
     "text": [
      "8.996415173, 4.107689785\n"
     ]
    }
   ],
   "source": [
    "@everywhere using Statistics \n",
    "@everywhere function cost_mean(x)\n",
    "   s = zero(eltype(x))\n",
    "   for i = 1:100\n",
    "      s += mean(log(sin(exp(xi))) for xi in x)\n",
    "   end\n",
    "   return s\n",
    "end\n",
    "X = [rand(100_000) for j=1:20];\n",
    "t1 = @elapsed map(cost_mean, X)\n",
    "t2 = @elapsed pmap(cost_mean, X)\n",
    "println(\"$t1, $t2\")"
   ]
  },
  {
   "cell_type": "markdown",
   "metadata": {
    "slideshow": {
     "slide_type": "subslide"
    }
   },
   "source": [
    "## threads support\n",
    "- Threads supports is still experimental but works : ⚠️ think to use `export JULIA_NUM_THREADS=4` before launching Julia\n",
    "with Julia-1.3, new task system was develop"
   ]
  },
  {
   "cell_type": "code",
   "execution_count": 35,
   "metadata": {
    "slideshow": {
     "slide_type": "fragment"
    }
   },
   "outputs": [
    {
     "name": "stdout",
     "output_type": "stream",
     "text": [
      "4\n"
     ]
    }
   ],
   "source": [
    "using Base.Threads \n",
    "println(Base.Threads.nthreads())"
   ]
  },
  {
   "cell_type": "markdown",
   "metadata": {
    "slideshow": {
     "slide_type": "fragment"
    }
   },
   "source": [
    "- using a example taken from https://julialang.org/blog/2019/07/multithreading"
   ]
  },
  {
   "cell_type": "code",
   "execution_count": 47,
   "metadata": {
    "slideshow": {
     "slide_type": "fragment"
    }
   },
   "outputs": [
    {
     "data": {
      "text/plain": [
       "psort! (generic function with 3 methods)"
      ]
     },
     "execution_count": 47,
     "metadata": {},
     "output_type": "execute_result"
    }
   ],
   "source": [
    "import Base.Threads.@spawn\n",
    "\n",
    "# sort the elements of `v` in place, from indices `lo` to `hi` inclusive\n",
    "function psort!(v, lo::Int=1, hi::Int=length(v))\n",
    "    if lo >= hi                       # 1 or 0 elements; nothing to do\n",
    "        return v\n",
    "    end\n",
    "    if hi - lo < 100000               # below some cutoff, run in serial\n",
    "        sort!(view(v, lo:hi), alg = MergeSort)\n",
    "        return v\n",
    "    end\n",
    "\n",
    "    mid = (lo+hi)>>>1                 # find the midpoint\n",
    "\n",
    "    half = @spawn psort!(v, lo, mid)  # task to sort the lower half; will run\n",
    "    psort!(v, mid+1, hi)              # in parallel with the current call sorting\n",
    "                                      # the upper half\n",
    "    wait(half)                        # wait for the lower half to finish\n",
    "\n",
    "    temp = v[lo:mid]                  # workspace for merging\n",
    "\n",
    "    i, k, j = 1, lo, mid+1            # merge the two sorted sub-arrays\n",
    "    @inbounds while k < j <= hi\n",
    "        if v[j] < temp[i]\n",
    "            v[k] = v[j]\n",
    "            j += 1\n",
    "        else\n",
    "            v[k] = temp[i]\n",
    "            i += 1\n",
    "        end\n",
    "        k += 1\n",
    "    end\n",
    "    @inbounds while k < j\n",
    "        v[k] = temp[i]\n",
    "        k += 1\n",
    "        i += 1\n",
    "    end\n",
    "\n",
    "    return v\n",
    "end"
   ]
  },
  {
   "cell_type": "code",
   "execution_count": 48,
   "metadata": {
    "slideshow": {
     "slide_type": "fragment"
    }
   },
   "outputs": [
    {
     "name": "stdout",
     "output_type": "stream",
     "text": [
      "  2.136703 seconds (111.25 k allocations: 81.999 MiB)\n"
     ]
    }
   ],
   "source": [
    "a = rand(20000000);\n",
    "b = copy(a); @time sort!(b, alg = MergeSort);   # single-threaded"
   ]
  },
  {
   "cell_type": "code",
   "execution_count": 49,
   "metadata": {
    "slideshow": {
     "slide_type": "subslide"
    }
   },
   "outputs": [
    {
     "name": "stdout",
     "output_type": "stream",
     "text": [
      "  2.054423 seconds (11 allocations: 76.294 MiB)\n"
     ]
    }
   ],
   "source": [
    "b = copy(a); @time sort!(b, alg = MergeSort);"
   ]
  },
  {
   "cell_type": "code",
   "execution_count": 50,
   "metadata": {
    "slideshow": {
     "slide_type": "fragment"
    }
   },
   "outputs": [
    {
     "name": "stdout",
     "output_type": "stream",
     "text": [
      "  1.002210 seconds (324.72 k allocations: 702.344 MiB, 5.35% gc time)\n"
     ]
    }
   ],
   "source": [
    "b = copy(a); @time psort!(b);    # two threads"
   ]
  },
  {
   "cell_type": "code",
   "execution_count": 51,
   "metadata": {
    "slideshow": {
     "slide_type": "fragment"
    }
   },
   "outputs": [
    {
     "name": "stdout",
     "output_type": "stream",
     "text": [
      "  0.841734 seconds (3.82 k allocations: 686.936 MiB)\n"
     ]
    }
   ],
   "source": [
    "b = copy(a); @time psort!(b);"
   ]
  },
  {
   "cell_type": "code",
   "execution_count": 38,
   "metadata": {
    "slideshow": {
     "slide_type": "fragment"
    }
   },
   "outputs": [
    {
     "data": {
      "text/plain": [
       "0.689574566"
      ]
     },
     "execution_count": 38,
     "metadata": {},
     "output_type": "execute_result"
    }
   ],
   "source": [
    "using Base.Threads\n",
    "\n",
    "f(x) = sin(x) + cos(x)\n",
    "\n",
    "function serial(n)\n",
    "    s = 0.0\n",
    "    for x = 1:n\n",
    "        s += f(x)\n",
    "    end\n",
    "    return s\n",
    "end\n",
    "\n",
    "@elapsed serial(10^7)"
   ]
  },
  {
   "cell_type": "code",
   "execution_count": 39,
   "metadata": {
    "slideshow": {
     "slide_type": "fragment"
    }
   },
   "outputs": [
    {
     "data": {
      "text/plain": [
       "0.239562285"
      ]
     },
     "execution_count": 39,
     "metadata": {},
     "output_type": "execute_result"
    }
   ],
   "source": [
    "function threads(n)\n",
    "    res_vec = zeros(nthreads())\n",
    "    @threads for i ∈ 1:nthreads()\n",
    "        res_vec[i] = local_sum(threadid(), n, nthreads())\n",
    "    end\n",
    "    sum(res_vec)\n",
    "end\n",
    "\n",
    "function local_sum(id, n, nthread)\n",
    "    out = 0.0\n",
    "    l = 1 + div(n * (id-1), nthread)\n",
    "    u = div(n * id, nthread)\n",
    "    for x ∈ l:u\n",
    "        out += f(x)\n",
    "    end\n",
    "    out\n",
    "end\n",
    "\n",
    "@elapsed threads(10^7)"
   ]
  },
  {
   "cell_type": "markdown",
   "metadata": {
    "slideshow": {
     "slide_type": "slide"
    }
   },
   "source": [
    "## Extensibility\n",
    " - *Julia* can be extended trough its trough packages `Pkg.add(\"MyPackage\")` and `using MyPackage`\n",
    "   - you can use `PyCall` to interact with `Python` → PyPlot package uses this mechanism\n",
    "   - use MPI or GPU with packages\n",
    " - you can call functions from *C* or *Fortran* using ccall"
   ]
  },
  {
   "cell_type": "code",
   "execution_count": 52,
   "metadata": {
    "slideshow": {
     "slide_type": "fragment"
    }
   },
   "outputs": [
    {
     "name": "stdout",
     "output_type": "stream",
     "text": [
      "w = 14\n"
     ]
    }
   ],
   "source": [
    "io = open(\"skel.c\",\"w\")\n",
    "write(io, \"int ajoute2(int x) { return x+2; }\")\n",
    "close(io)\n",
    "run(`gcc -o ajoute2.so --shared skel.c`);\n",
    "w = ccall((:ajoute2, \"./ajoute2.so\"), Int32, (Int32,), 12)\n",
    "run(`rm ajoute2.so skel.c`)\n",
    "println(\"w = $w\")"
   ]
  },
  {
   "cell_type": "code",
   "execution_count": 70,
   "metadata": {
    "slideshow": {
     "slide_type": "subslide"
    }
   },
   "outputs": [
    {
     "data": {
      "image/png": "[encoded data removed]",
      "text/plain": [
       "Figure(PyObject <Figure size 640x480 with 1 Axes>)"
      ]
     },
     "metadata": {},
     "output_type": "display_data"
    }
   ],
   "source": [
    "# example with matplotlib\n",
    "using PyCall\n",
    "using PyPlot\n",
    "plt = pyimport(\"matplotlib.pyplot\")\n",
    "x = range(0;stop=2*pi,length=1000); y = sin.(3*x + 4*cos.(2*x));\n",
    "plt.plot(x, y, color=\"red\", linewidth=2.0, linestyle=\"--\")\n",
    "plt.show()"
   ]
  },
  {
   "cell_type": "markdown",
   "metadata": {
    "slideshow": {
     "slide_type": "subslide"
    }
   },
   "source": [
    "# calling a fortran MPI code trough Julia for optimizing\n",
    " - we want to minimize \n",
    " \n",
    "$$ f(x_1,...,x_{\\#procs}) = \\sum_{k=1}^{\\#procs} \\sum_{i=1}^{p_k}|x^k_i-c^k_i|^2 $$\n",
    "\n",
    "- we use the following Julia code\n",
    "\n",
    "```julia\n",
    "...\n",
    "function simu(x::Array{Float64,1})\n",
    "    f = Ref{Float64}(0.)\n",
    "    c = cos.(1:n)[slice[1]:slice[2]]\n",
    "    df = zeros(slice[2]-slice[1]+1)\n",
    "    @assert  size(c,1) == size(x, 1)\n",
    "    ccall((:compute_error, \"./libpar_error.so\"), \n",
    "          Cvoid, (Ref{Int32}, Ptr{Float64}, Ptr{Float64}, Ref{Float64}, Ptr{Float64}), size(x, 1), x, c, f, df)\n",
    "    return f[], df\n",
    "end\n",
    "\n",
    "function cost(x::Array{Float64,1})\n",
    "    f,G = simu(x)\n",
    "    return f\n",
    "end\n",
    "\n",
    "function grad(x::Array{Float64,1})\n",
    "    f,G = simu(x)\n",
    "    return G\n",
    "end \n",
    "\n",
    "function main()\n",
    "    MPI.Init()\n",
    "    comm = MPI.COMM_WORLD\n",
    "    nb_procs = MPI.Comm_size(comm)\n",
    "    rank = MPI.Comm_rank(comm)\n",
    "    global n, slice\n",
    "    n = parse(Int32, ARGS[1])\n",
    "    x = zeros(n)\n",
    "    slice = compute_slice(n, Int32(nb_procs), Int32(rank))\n",
    "    x[:] = 1:n\n",
    "    x_loc = x[slice[1]:slice[2]]\n",
    "    f,df = simu(x_loc)\n",
    " \n",
    "    res = optimize(cost, grad, x_loc, BFGS(); inplace =false)\n",
    "    x_min = Optim.minimizer(res)\n",
    "    x_glob = MPI.Gatherv(x_min, Cint[5,5], 0, comm)\n",
    "    if (rank == 0)\n",
    "        println(\" |sol - cos(1:$n)| = \", norm(x_glob-cos.(1:n)))\n",
    "    end\n",
    "    MPI.Finalize()\n",
    "end\n",
    "...\n",
    "```"
   ]
  },
  {
   "cell_type": "markdown",
   "metadata": {
    "slideshow": {
     "slide_type": "fragment"
    }
   },
   "source": [
    "- and the evaluation of cost is done by a fortran code\n",
    "\n",
    "```fortran\n",
    "module par_error\n",
    "    use mpi\n",
    "    use iso_c_binding, only: c_int32_t, c_double\n",
    "    public:: compute_error\n",
    "contains\n",
    "\n",
    "    subroutine compute_error(n, x, c, f, df) bind(C, name=\"compute_error\")\n",
    "        implicit none\n",
    "        integer(c_int32_t), intent(in) :: n  ! size of the array\n",
    "        real(c_double), intent(in) :: x(n), c(n) !\n",
    "        real(c_double), intent(out) :: f\n",
    "        real(c_double), intent(out) :: df(n)\n",
    "\n",
    "        real(c_double) ::  f_loc\n",
    "        integer(c_int32_t) :: code\n",
    "        \n",
    "        f = 0.d0\n",
    "        ! computing objective\n",
    "        f_loc = 0.5d0 * sum( (x - c)**2 )\n",
    "        call MPI_ALLREDUCE( f_loc, f, 1, MPI_DOUBLE, MPI_SUM, MPI_COMM_WORLD, code )\n",
    "        \n",
    "        ! computing gradient and ...\n",
    "        df = x - c\n",
    "    end subroutine compute_error\n",
    "\n",
    "end module par_error\n",
    "```"
   ]
  },
  {
   "cell_type": "code",
   "execution_count": 80,
   "metadata": {
    "slideshow": {
     "slide_type": "fragment"
    }
   },
   "outputs": [
    {
     "data": {
      "text/plain": [
       "\"cost function at x0 = 206.1740675143132\\n |sol - cos(1:10)| = 9.961119953842058e-16\\n\""
      ]
     },
     "execution_count": 80,
     "metadata": {},
     "output_type": "execute_result"
    }
   ],
   "source": [
    "a = read(`env LD_PRELOAD=\"/home/fux/sources/nahasketa/julia/interfaces/fortran/withMPI/libpar_error.so\" mpirun -np 2 julia /home/fux/sources/nahasketa/julia/interfaces/fortran/withMPI/test_optim.jl  10`, String)"
   ]
  },
  {
   "cell_type": "markdown",
   "metadata": {
    "slideshow": {
     "slide_type": "slide"
    }
   },
   "source": [
    "## to Conclude\n",
    "- julia is a *fast* language for doing numerical computations : good replacement for Matlab, R, or Python\n",
    "- since 2012, the community (numericians and computer scientists) is growing\n",
    "- In August 2018, the version 1.0 was published\n",
    "- have a look at https://julialang.org/"
   ]
  }
 ],
 "metadata": {
  "celltoolbar": "Slideshow",
  "kernelspec": {
   "display_name": "Julia 1.3.0-alpha",
   "language": "julia",
   "name": "julia-1.3"
  },
  "language_info": {
   "file_extension": ".jl",
   "mimetype": "application/julia",
   "name": "julia",
   "version": "1.3.0"
  }
 },
 "nbformat": 4,
 "nbformat_minor": 2
}
