{
 "cells": [
  {
   "cell_type": "markdown",
   "metadata": {
    "slideshow": {
     "slide_type": "slide"
    }
   },
   "source": [
    "<center>\n",
    "    <H1> Introduction à Julia </H1>\n",
    "<img src=\"julia.png\" width=\"400\"/>\n",
    "</center>\n"
   ]
  },
  {
   "cell_type": "markdown",
   "metadata": {
    "slideshow": {
     "slide_type": "slide"
    }
   },
   "source": [
    "## Outline\n",
    "\n",
    "- *Julia* as a language for numerical Computation\n",
    "- Functional aspects\n",
    "- Types\n",
    "- Multiple Dispatch\n",
    "- Parallelism\n",
    "- Extensibility"
   ]
  },
  {
   "cell_type": "markdown",
   "metadata": {
    "slideshow": {
     "slide_type": "slide"
    }
   },
   "source": [
    "## A language for numerical computation\n",
    "\n",
    "*Julia*'s  syntax is very similar to langages as *Matlab*, *Python* or *Scilab*, so\n",
    "switching to *Julia* is fast\n",
    "\n",
    "- do not require *vectorized* code to run fast using a LLVM-JIT compiler"
   ]
  },
  {
   "cell_type": "markdown",
   "metadata": {
    "slideshow": {
     "slide_type": "fragment"
    }
   },
   "source": [
    "- it uses references also for function arguments"
   ]
  },
  {
   "cell_type": "markdown",
   "metadata": {
    "slideshow": {
     "slide_type": "fragment"
    }
   },
   "source": [
    "- indices start to 1 and finish to `end`"
   ]
  },
  {
   "cell_type": "markdown",
   "metadata": {
    "slideshow": {
     "slide_type": "fragment"
    }
   },
   "source": [
    "- use brackets `[,]` for indexing"
   ]
  },
  {
   "cell_type": "markdown",
   "metadata": {
    "slideshow": {
     "slide_type": "fragment"
    }
   },
   "source": [
    "- it supports broadcasting, ie. `(1,n)` and `(m, n)` → `(m,n)` and `(m,n)`"
   ]
  },
  {
   "cell_type": "markdown",
   "metadata": {
    "slideshow": {
     "slide_type": "fragment"
    }
   },
   "source": [
    "- 1D arrays support"
   ]
  },
  {
   "cell_type": "markdown",
   "metadata": {
    "slideshow": {
     "slide_type": "fragment"
    }
   },
   "source": [
    "- Unicode symbol for notation and some operations "
   ]
  },
  {
   "cell_type": "code",
   "execution_count": 1,
   "metadata": {
    "slideshow": {
     "slide_type": "slide"
    }
   },
   "outputs": [
    {
     "data": {
      "text/plain": [
       "1.249269245"
      ]
     },
     "execution_count": 1,
     "metadata": {},
     "output_type": "execute_result"
    }
   ],
   "source": [
    "using LinearAlgebra, Test\n",
    "function f1(n::Int)\n",
    "    A=zeros(Int64, n,n);\n",
    "    for j=1:n ## Fortran Loop Style  !!!!\n",
    "        for i=1:n\n",
    "            A[i,j] = i^j\n",
    "        end\n",
    "    end\n",
    "    return A\n",
    "end    \n",
    "@elapsed f1(10^4)"
   ]
  },
  {
   "cell_type": "code",
   "execution_count": 2,
   "metadata": {
    "slideshow": {
     "slide_type": "fragment"
    }
   },
   "outputs": [
    {
     "data": {
      "text/plain": [
       "1.243377086"
      ]
     },
     "execution_count": 2,
     "metadata": {},
     "output_type": "execute_result"
    }
   ],
   "source": [
    "function f2(n::Int) \n",
    "   A = collect(1:n).^collect(1:n)'\n",
    "   return A\n",
    "end\n",
    "@test f1(3) == f2(3)\n",
    "@elapsed f2(10^4)"
   ]
  },
  {
   "cell_type": "markdown",
   "metadata": {
    "slideshow": {
     "slide_type": "slide"
    }
   },
   "source": [
    "## Functionals aspects\n",
    "- Anonymous functions : `(x -> x*x)(2) `\n",
    "- list comprehensions\n",
    "- supports for `map`, `reduce`, `filter` functions\n",
    "- functions support variadic arguments (using tuples or names)\n",
    "- functions are not supposed to modify their arguments, otherwise they follow the `!` convention like `sort!`\n",
    "- support metaprogramming : like in Lisp \"Code is data and data is code\""
   ]
  },
  {
   "cell_type": "code",
   "execution_count": 3,
   "metadata": {
    "slideshow": {
     "slide_type": "slide"
    }
   },
   "outputs": [
    {
     "data": {
      "text/plain": [
       "1//2160"
      ]
     },
     "execution_count": 3,
     "metadata": {},
     "output_type": "execute_result"
    }
   ],
   "source": [
    "hilbert(n::Int) = reshape([ 1//(i+j-1) for i=1:n for j=1:n],n,n)\n",
    "H₃=hilbert(3) \n",
    "det(H₃)"
   ]
  },
  {
   "cell_type": "code",
   "execution_count": 4,
   "metadata": {
    "slideshow": {
     "slide_type": "fragment"
    }
   },
   "outputs": [
    {
     "data": {
      "text/plain": [
       "1-element Array{Int64,1}:\n",
       " 26"
      ]
     },
     "execution_count": 4,
     "metadata": {},
     "output_type": "execute_result"
    }
   ],
   "source": [
    "# seeking integers between squares and cubes\n",
    "supSquares = filter(x->abs(√(x-1)-round(√(x-1))) < 1e-12, 1:100)\n",
    "infCubes = filter(x->abs(∛(x+1)-round(∛(x+1))) < 1e-12, 1:100)\n",
    "ξ = intersect(supSquares, infCubes)"
   ]
  },
  {
   "cell_type": "markdown",
   "metadata": {
    "slideshow": {
     "slide_type": "slide"
    }
   },
   "source": [
    "## Types\n",
    "Julia has a hierarchy of types defined by a graph with `Any` as a root"
   ]
  },
  {
   "cell_type": "code",
   "execution_count": 5,
   "metadata": {
    "slideshow": {
     "slide_type": "fragment"
    }
   },
   "outputs": [
    {
     "data": {
      "text/plain": [
       "4-element Array{Any,1}:\n",
       " AbstractFloat     \n",
       " AbstractIrrational\n",
       " Integer           \n",
       " Rational          "
      ]
     },
     "execution_count": 5,
     "metadata": {},
     "output_type": "execute_result"
    }
   ],
   "source": [
    "subtypes(Real)"
   ]
  },
  {
   "cell_type": "markdown",
   "metadata": {
    "slideshow": {
     "slide_type": "fragment"
    }
   },
   "source": [
    "- `x<:y` is the operator for the relation \"x is a subtype of y\""
   ]
  },
  {
   "cell_type": "code",
   "execution_count": 6,
   "metadata": {
    "slideshow": {
     "slide_type": "fragment"
    }
   },
   "outputs": [
    {
     "data": {
      "text/plain": [
       "true"
      ]
     },
     "execution_count": 6,
     "metadata": {},
     "output_type": "execute_result"
    }
   ],
   "source": [
    "Int64 <: Real"
   ]
  },
  {
   "cell_type": "markdown",
   "metadata": {
    "slideshow": {
     "slide_type": "slide"
    }
   },
   "source": [
    "## Types\n",
    "some types are abstract (e.g `Real`) → cannot be instantiate"
   ]
  },
  {
   "cell_type": "code",
   "execution_count": 7,
   "metadata": {
    "slideshow": {
     "slide_type": "fragment"
    }
   },
   "outputs": [
    {
     "data": {
      "text/plain": [
       "Float64"
      ]
     },
     "execution_count": 7,
     "metadata": {},
     "output_type": "execute_result"
    }
   ],
   "source": [
    "typeof(Real(1.2))"
   ]
  },
  {
   "cell_type": "markdown",
   "metadata": {
    "slideshow": {
     "slide_type": "fragment"
    }
   },
   "source": [
    "some types are concrete (e.g. `Int64`) → they have not subtype except `Union{}`"
   ]
  },
  {
   "cell_type": "code",
   "execution_count": 8,
   "metadata": {
    "slideshow": {
     "slide_type": "fragment"
    }
   },
   "outputs": [
    {
     "data": {
      "text/plain": [
       "0-element Array{Type,1}"
      ]
     },
     "execution_count": 8,
     "metadata": {},
     "output_type": "execute_result"
    }
   ],
   "source": [
    "subtypes(Int64)"
   ]
  },
  {
   "cell_type": "code",
   "execution_count": 9,
   "metadata": {
    "slideshow": {
     "slide_type": "fragment"
    }
   },
   "outputs": [
    {
     "data": {
      "text/plain": [
       "true"
      ]
     },
     "execution_count": 9,
     "metadata": {},
     "output_type": "execute_result"
    }
   ],
   "source": [
    "Union{}<:Int64"
   ]
  },
  {
   "cell_type": "markdown",
   "metadata": {
    "slideshow": {
     "slide_type": "slide"
    }
   },
   "source": [
    "## Types\n",
    "### To extend basic types, *Julia* supports\n",
    "- composite types trough `struct` and `mutable struct`"
   ]
  },
  {
   "cell_type": "code",
   "execution_count": 10,
   "metadata": {
    "slideshow": {
     "slide_type": "fragment"
    }
   },
   "outputs": [
    {
     "data": {
      "text/plain": [
       "zutos(2, [1, 2])"
      ]
     },
     "execution_count": 10,
     "metadata": {},
     "output_type": "execute_result"
    }
   ],
   "source": [
    "struct zutos\n",
    "    x::Int\n",
    "    a::Array{Int64,1}\n",
    "end \n",
    "w = zutos(2, [1,2])"
   ]
  },
  {
   "cell_type": "code",
   "execution_count": 11,
   "metadata": {
    "slideshow": {
     "slide_type": "fragment"
    }
   },
   "outputs": [
    {
     "ename": "ErrorException",
     "evalue": "type zutos is immutable",
     "output_type": "error",
     "traceback": [
      "type zutos is immutable",
      "",
      "Stacktrace:",
      " [1] setproperty!(::zutos, ::Symbol, ::Int64) at ./sysimg.jl:19",
      " [2] top-level scope at In[11]:1"
     ]
    }
   ],
   "source": [
    "w.x = 4"
   ]
  },
  {
   "cell_type": "code",
   "execution_count": 12,
   "metadata": {
    "slideshow": {
     "slide_type": "fragment"
    }
   },
   "outputs": [
    {
     "data": {
      "text/plain": [
       "3-element Array{Int64,1}:\n",
       " 1\n",
       " 2\n",
       " 3"
      ]
     },
     "execution_count": 12,
     "metadata": {},
     "output_type": "execute_result"
    }
   ],
   "source": [
    "append!(w.a,3)"
   ]
  },
  {
   "cell_type": "markdown",
   "metadata": {
    "slideshow": {
     "slide_type": "slide"
    }
   },
   "source": [
    "## Types\n",
    "- tuple types"
   ]
  },
  {
   "cell_type": "code",
   "execution_count": 13,
   "metadata": {
    "slideshow": {
     "slide_type": "fragment"
    }
   },
   "outputs": [
    {
     "data": {
      "text/plain": [
       "Tuple{Int64,String}"
      ]
     },
     "execution_count": 13,
     "metadata": {},
     "output_type": "execute_result"
    }
   ],
   "source": [
    "typeof((3,\"haha\"))"
   ]
  },
  {
   "cell_type": "code",
   "execution_count": 14,
   "metadata": {
    "slideshow": {
     "slide_type": "fragment"
    }
   },
   "outputs": [
    {
     "data": {
      "text/plain": [
       "true"
      ]
     },
     "execution_count": 14,
     "metadata": {},
     "output_type": "execute_result"
    }
   ],
   "source": [
    "Tuple{Int64,String} <: Tuple{Real,String}"
   ]
  },
  {
   "cell_type": "markdown",
   "metadata": {
    "slideshow": {
     "slide_type": "fragment"
    }
   },
   "source": [
    "- union types"
   ]
  },
  {
   "cell_type": "code",
   "execution_count": 15,
   "metadata": {
    "slideshow": {
     "slide_type": "fragment"
    }
   },
   "outputs": [
    {
     "data": {
      "text/plain": [
       "true"
      ]
     },
     "execution_count": 15,
     "metadata": {},
     "output_type": "execute_result"
    }
   ],
   "source": [
    "Real <: Union{String, Real}"
   ]
  },
  {
   "cell_type": "markdown",
   "metadata": {
    "slideshow": {
     "slide_type": "slide"
    }
   },
   "source": [
    "## Types \n",
    "- parametric types "
   ]
  },
  {
   "cell_type": "code",
   "execution_count": 16,
   "metadata": {},
   "outputs": [
    {
     "data": {
      "text/plain": [
       "tableau{Int64}(10, Ptr{Int64} @0x0000000000000000)"
      ]
     },
     "execution_count": 16,
     "metadata": {},
     "output_type": "execute_result"
    }
   ],
   "source": [
    "struct tableau{T<:Number}\n",
    "    n::Int64\n",
    "    a::Ptr{T}\n",
    "end\n",
    "a = tableau{Int64}(10, 0)"
   ]
  },
  {
   "cell_type": "markdown",
   "metadata": {},
   "source": [
    "☢ For efficiency, parametric types are invariants ☢"
   ]
  },
  {
   "cell_type": "code",
   "execution_count": 17,
   "metadata": {
    "slideshow": {
     "slide_type": "fragment"
    }
   },
   "outputs": [
    {
     "data": {
      "text/plain": [
       "false"
      ]
     },
     "execution_count": 17,
     "metadata": {},
     "output_type": "execute_result"
    }
   ],
   "source": [
    "Array{Int64} <: Array{Real}"
   ]
  },
  {
   "cell_type": "markdown",
   "metadata": {
    "slideshow": {
     "slide_type": "slide"
    }
   },
   "source": [
    "## Multiple Dispatch\n",
    "- When Julia executes a function it selects a *method* respect to types of all arguments  : Thus, we can define \n",
    "function piecewisely\n",
    "- no automatic or magic conversions : for operators  arguments are promoted to a common type (user-definable) and use the specific implementation\n",
    "- let us define `f`"
   ]
  },
  {
   "cell_type": "code",
   "execution_count": 18,
   "metadata": {
    "slideshow": {
     "slide_type": "fragment"
    }
   },
   "outputs": [
    {
     "data": {
      "text/plain": [
       "7.0"
      ]
     },
     "execution_count": 18,
     "metadata": {},
     "output_type": "execute_result"
    }
   ],
   "source": [
    "f(x::Float64,y::Float64) = 2x + y\n",
    "f(x::Int,y::Int) = 2x + y\n",
    "f(2.,3.) # returns 7.0"
   ]
  },
  {
   "cell_type": "code",
   "execution_count": 19,
   "metadata": {
    "slideshow": {
     "slide_type": "fragment"
    }
   },
   "outputs": [
    {
     "data": {
      "text/plain": [
       "7"
      ]
     },
     "execution_count": 19,
     "metadata": {},
     "output_type": "execute_result"
    }
   ],
   "source": [
    "f(2,3)"
   ]
  },
  {
   "cell_type": "code",
   "execution_count": 20,
   "metadata": {
    "slideshow": {
     "slide_type": "fragment"
    }
   },
   "outputs": [
    {
     "ename": "MethodError",
     "evalue": "MethodError: no method matching f(::Int64, ::Float64)\nClosest candidates are:\n  f(::Int64, !Matched::Int64) at In[18]:2\n  f(!Matched::Float64, ::Float64) at In[18]:1",
     "output_type": "error",
     "traceback": [
      "MethodError: no method matching f(::Int64, ::Float64)\nClosest candidates are:\n  f(::Int64, !Matched::Int64) at In[18]:2\n  f(!Matched::Float64, ::Float64) at In[18]:1",
      "",
      "Stacktrace:",
      " [1] top-level scope at In[20]:1"
     ]
    }
   ],
   "source": [
    "f(2, 3.) "
   ]
  },
  {
   "cell_type": "markdown",
   "metadata": {
    "slideshow": {
     "slide_type": "slide"
    }
   },
   "source": [
    "- but if we define `g`"
   ]
  },
  {
   "cell_type": "code",
   "execution_count": 21,
   "metadata": {
    "slideshow": {
     "slide_type": "fragment"
    }
   },
   "outputs": [
    {
     "data": {
      "text/plain": [
       "7.0"
      ]
     },
     "execution_count": 21,
     "metadata": {},
     "output_type": "execute_result"
    }
   ],
   "source": [
    "    f(x::Real, y::Real) = 2x + y\n",
    "    f(2.0, 3) "
   ]
  },
  {
   "cell_type": "code",
   "execution_count": 22,
   "metadata": {
    "slideshow": {
     "slide_type": "fragment"
    }
   },
   "outputs": [
    {
     "data": {
      "text/html": [
       "3 methods for generic function <b>f</b>:<ul><li> f(x::<b>Int64</b>, y::<b>Int64</b>) in Main at In[18]:2</li> <li> f(x::<b>Float64</b>, y::<b>Float64</b>) in Main at In[18]:1</li> <li> f(x::<b>Real</b>, y::<b>Real</b>) in Main at In[21]:1</li> </ul>"
      ],
      "text/plain": [
       "# 3 methods for generic function \"f\":\n",
       "[1] f(x::Int64, y::Int64) in Main at In[18]:2\n",
       "[2] f(x::Float64, y::Float64) in Main at In[18]:1\n",
       "[3] f(x::Real, y::Real) in Main at In[21]:1"
      ]
     },
     "execution_count": 22,
     "metadata": {},
     "output_type": "execute_result"
    }
   ],
   "source": [
    "methods(f)"
   ]
  },
  {
   "cell_type": "markdown",
   "metadata": {
    "slideshow": {
     "slide_type": "slide"
    }
   },
   "source": [
    "## Parallelism\n",
    "Julia support parallelism trough differents ways\n",
    "- native distributive parallelism with one master and workers \n",
    "- native shared parallelism  → macro `@threads`\n",
    "- trough MPI.jl could support distributed parallelism\n",
    "- could support GPU trough packages"
   ]
  },
  {
   "cell_type": "markdown",
   "metadata": {
    "slideshow": {
     "slide_type": "slide"
    }
   },
   "source": [
    "### Native distributed parallelism \n",
    "- low level routines\n"
   ]
  },
  {
   "cell_type": "code",
   "execution_count": 23,
   "metadata": {
    "slideshow": {
     "slide_type": "fragment"
    }
   },
   "outputs": [
    {
     "data": {
      "text/plain": [
       "4"
      ]
     },
     "execution_count": 23,
     "metadata": {},
     "output_type": "execute_result"
    }
   ],
   "source": [
    "using Distributed\n",
    "addprocs(3)\n",
    "nprocs()"
   ]
  },
  {
   "cell_type": "code",
   "execution_count": 24,
   "metadata": {
    "slideshow": {
     "slide_type": "fragment"
    }
   },
   "outputs": [
    {
     "data": {
      "text/plain": [
       "667274.1579016141"
      ]
     },
     "execution_count": 24,
     "metadata": {},
     "output_type": "execute_result"
    }
   ],
   "source": [
    "res1 = @spawnat 2 sum(rand(1000,1000).^2)\n",
    "res2= @spawnat 3 sum(rand(1000,1000).^2)\n",
    "fetch(res1)+fetch(res2)"
   ]
  },
  {
   "cell_type": "markdown",
   "metadata": {
    "slideshow": {
     "slide_type": "slide"
    }
   },
   "source": [
    "- high level routines"
   ]
  },
  {
   "cell_type": "code",
   "execution_count": 25,
   "metadata": {
    "slideshow": {
     "slide_type": "fragment"
    }
   },
   "outputs": [
    {
     "name": "stdout",
     "output_type": "stream",
     "text": [
      "  2.186002 seconds (1.59 M allocations: 80.633 MiB, 0.96% gc time)\n"
     ]
    },
    {
     "data": {
      "text/plain": [
       "1.273239544735062e8"
      ]
     },
     "execution_count": 25,
     "metadata": {},
     "output_type": "execute_result"
    }
   ],
   "source": [
    "@everywhere function f3(n::Int)\n",
    "res = @distributed (+) for i=1:n\n",
    "      sin(i*π/n)\n",
    "end\n",
    "return res\n",
    "end\n",
    "@time f3(200000000)"
   ]
  },
  {
   "cell_type": "code",
   "execution_count": 26,
   "metadata": {
    "slideshow": {
     "slide_type": "fragment"
    }
   },
   "outputs": [
    {
     "name": "stdout",
     "output_type": "stream",
     "text": [
      "  3.538700 seconds (29.82 k allocations: 1.578 MiB)\n"
     ]
    },
    {
     "data": {
      "text/plain": [
       "1.2732395447358306e8"
      ]
     },
     "execution_count": 26,
     "metadata": {},
     "output_type": "execute_result"
    }
   ],
   "source": [
    "function f4(n::Int)\n",
    "res =  0\n",
    "for i=1:n\n",
    "      res += sin(i*π/n)\n",
    "end\n",
    "return res\n",
    "end\n",
    "@time f4(200000000)"
   ]
  },
  {
   "cell_type": "markdown",
   "metadata": {
    "slideshow": {
     "slide_type": "slide"
    }
   },
   "source": [
    "## Parallelism\n",
    "- example with `pmap`"
   ]
  },
  {
   "cell_type": "code",
   "execution_count": 27,
   "metadata": {
    "slideshow": {
     "slide_type": "fragment"
    }
   },
   "outputs": [
    {
     "name": "stdout",
     "output_type": "stream",
     "text": [
      "8.881891842, 4.152505259\n"
     ]
    }
   ],
   "source": [
    "@everywhere using Statistics\n",
    "@everywhere function cost_mean(x)\n",
    "   s = zero(eltype(x))\n",
    "   for i = 1:100\n",
    "      s += mean(log(sin(exp(xi))) for xi in x)\n",
    "   end\n",
    "   return s\n",
    "end\n",
    "X = [rand(100_000) for j=1:20];\n",
    "t1 = @elapsed map(cost_mean, X)\n",
    "t2 = @elapsed pmap(cost_mean, X)\n",
    "println(\"$t1, $t2\")"
   ]
  },
  {
   "cell_type": "markdown",
   "metadata": {
    "slideshow": {
     "slide_type": "slide"
    }
   },
   "source": [
    "## Parallelism\n",
    "- Threads supports is still experimental but works : ⚠️ think to use `export JULIA_NUM_THREADS=4` before launching Julia"
   ]
  },
  {
   "cell_type": "code",
   "execution_count": 28,
   "metadata": {
    "slideshow": {
     "slide_type": "fragment"
    }
   },
   "outputs": [
    {
     "data": {
      "text/plain": [
       "0.672267296"
      ]
     },
     "execution_count": 28,
     "metadata": {},
     "output_type": "execute_result"
    }
   ],
   "source": [
    "using Base.Threads\n",
    "\n",
    "f(x) = sin(x) + cos(x)\n",
    "\n",
    "function serial(n)\n",
    "    s = 0.0\n",
    "    for x = 1:n\n",
    "        s += f(x)\n",
    "    end\n",
    "    return s\n",
    "end\n",
    "\n",
    "@elapsed serial(10^7)"
   ]
  },
  {
   "cell_type": "code",
   "execution_count": 29,
   "metadata": {
    "slideshow": {
     "slide_type": "subslide"
    }
   },
   "outputs": [
    {
     "data": {
      "text/plain": [
       "0.245307306"
      ]
     },
     "execution_count": 29,
     "metadata": {},
     "output_type": "execute_result"
    }
   ],
   "source": [
    "function threads(n)\n",
    "    res_vec = zeros(nthreads())\n",
    "    @threads for i ∈ 1:nthreads()\n",
    "        res_vec[i] = local_sum(threadid(), n, nthreads())\n",
    "    end\n",
    "    sum(res_vec)\n",
    "end\n",
    "\n",
    "function local_sum(id, n, nthread)\n",
    "    out = 0.0\n",
    "    l = 1 + div(n * (id-1), nthread)\n",
    "    u = div(n * id, nthread)\n",
    "    for x ∈ l:u\n",
    "        out += f(x)\n",
    "    end\n",
    "    out\n",
    "end\n",
    "\n",
    "@elapsed threads(10^7)"
   ]
  },
  {
   "cell_type": "markdown",
   "metadata": {
    "slideshow": {
     "slide_type": "slide"
    }
   },
   "source": [
    "## Extensibility\n",
    " - *Julia* can be extended trough its trough packages `Pkg.add(\"MyPackage\")` and `using MyPackage`\n",
    "   - you can use `PyCall` to interact with `Python` → PyPlot package uses this mechanism\n",
    "   - use MPI ou GPU with packages\n",
    " - you can call functions from *C* or *Fortran* using ccall"
   ]
  },
  {
   "cell_type": "code",
   "execution_count": 30,
   "metadata": {
    "slideshow": {
     "slide_type": "fragment"
    }
   },
   "outputs": [
    {
     "name": "stdout",
     "output_type": "stream",
     "text": [
      "w = 14\n"
     ]
    }
   ],
   "source": [
    "io = open(\"skel.c\",\"w\")\n",
    "write(io, \"int ajoute2(int x) { return x+2; }\")\n",
    "close(io)\n",
    "run(`gcc -o ajoute2.so --shared skel.c`);\n",
    "w = ccall((:ajoute2, \"./ajoute2.so\"), Int32, (Int32,), 12)\n",
    "run(`rm ajoute2.so skel.c`)\n",
    "println(\"w = $w\")"
   ]
  },
  {
   "cell_type": "markdown",
   "metadata": {
    "slideshow": {
     "slide_type": "slide"
    }
   },
   "source": [
    "## to Conclude\n",
    "- julia is a *fast* language for doing numerical computations : good replacement for Matlab, R, or Python\n",
    "- since 2012, the community (numericians and computer scientists) is growing\n",
    "- In August 2018, the version 1.0 was published\n",
    "- have a look at https://julialang.org/"
   ]
  }
 ],
 "metadata": {
  "celltoolbar": "Slideshow",
  "kernelspec": {
   "display_name": "Julia 1.0.0",
   "language": "julia",
   "name": "julia-1.0"
  },
  "language_info": {
   "file_extension": ".jl",
   "mimetype": "application/julia",
   "name": "julia",
   "version": "1.0.0"
  }
 },
 "nbformat": 4,
 "nbformat_minor": 2
}
